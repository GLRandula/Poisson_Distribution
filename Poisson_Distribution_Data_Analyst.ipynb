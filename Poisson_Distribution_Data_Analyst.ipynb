{
 "cells": [
  {
   "cell_type": "markdown",
   "id": "ec70d545",
   "metadata": {},
   "source": [
    "# Poisson Distribution Data Analyzation"
   ]
  },
  {
   "cell_type": "code",
   "execution_count": 1,
   "id": "be208fb4",
   "metadata": {},
   "outputs": [],
   "source": [
    "from scipy.stats import poisson\n",
    "import numpy as np\n",
    "import pandas as pd\n",
    "import matplotlib.pyplot as plt"
   ]
  },
  {
   "cell_type": "code",
   "execution_count": 2,
   "id": "1f3403ef",
   "metadata": {},
   "outputs": [
    {
     "data": {
      "text/html": [
       "<div>\n",
       "<style scoped>\n",
       "    .dataframe tbody tr th:only-of-type {\n",
       "        vertical-align: middle;\n",
       "    }\n",
       "\n",
       "    .dataframe tbody tr th {\n",
       "        vertical-align: top;\n",
       "    }\n",
       "\n",
       "    .dataframe thead th {\n",
       "        text-align: right;\n",
       "    }\n",
       "</style>\n",
       "<table border=\"1\" class=\"dataframe\">\n",
       "  <thead>\n",
       "    <tr style=\"text-align: right;\">\n",
       "      <th></th>\n",
       "      <th>Date_reported</th>\n",
       "      <th>Country_code</th>\n",
       "      <th>Country</th>\n",
       "      <th>WHO_region</th>\n",
       "      <th>New_cases</th>\n",
       "      <th>Cumulative_cases</th>\n",
       "      <th>New_deaths</th>\n",
       "      <th>Cumulative_deaths</th>\n",
       "    </tr>\n",
       "  </thead>\n",
       "  <tbody>\n",
       "    <tr>\n",
       "      <th>0</th>\n",
       "      <td>1/3/2020</td>\n",
       "      <td>LK</td>\n",
       "      <td>Sri Lanka</td>\n",
       "      <td>SEARO</td>\n",
       "      <td>0</td>\n",
       "      <td>0</td>\n",
       "      <td>0</td>\n",
       "      <td>0</td>\n",
       "    </tr>\n",
       "    <tr>\n",
       "      <th>1</th>\n",
       "      <td>1/4/2020</td>\n",
       "      <td>LK</td>\n",
       "      <td>Sri Lanka</td>\n",
       "      <td>SEARO</td>\n",
       "      <td>0</td>\n",
       "      <td>0</td>\n",
       "      <td>0</td>\n",
       "      <td>0</td>\n",
       "    </tr>\n",
       "    <tr>\n",
       "      <th>2</th>\n",
       "      <td>1/5/2020</td>\n",
       "      <td>LK</td>\n",
       "      <td>Sri Lanka</td>\n",
       "      <td>SEARO</td>\n",
       "      <td>0</td>\n",
       "      <td>0</td>\n",
       "      <td>0</td>\n",
       "      <td>0</td>\n",
       "    </tr>\n",
       "    <tr>\n",
       "      <th>3</th>\n",
       "      <td>1/6/2020</td>\n",
       "      <td>LK</td>\n",
       "      <td>Sri Lanka</td>\n",
       "      <td>SEARO</td>\n",
       "      <td>0</td>\n",
       "      <td>0</td>\n",
       "      <td>0</td>\n",
       "      <td>0</td>\n",
       "    </tr>\n",
       "    <tr>\n",
       "      <th>4</th>\n",
       "      <td>1/7/2020</td>\n",
       "      <td>LK</td>\n",
       "      <td>Sri Lanka</td>\n",
       "      <td>SEARO</td>\n",
       "      <td>0</td>\n",
       "      <td>0</td>\n",
       "      <td>0</td>\n",
       "      <td>0</td>\n",
       "    </tr>\n",
       "    <tr>\n",
       "      <th>5</th>\n",
       "      <td>1/8/2020</td>\n",
       "      <td>LK</td>\n",
       "      <td>Sri Lanka</td>\n",
       "      <td>SEARO</td>\n",
       "      <td>0</td>\n",
       "      <td>0</td>\n",
       "      <td>0</td>\n",
       "      <td>0</td>\n",
       "    </tr>\n",
       "    <tr>\n",
       "      <th>6</th>\n",
       "      <td>1/9/2020</td>\n",
       "      <td>LK</td>\n",
       "      <td>Sri Lanka</td>\n",
       "      <td>SEARO</td>\n",
       "      <td>0</td>\n",
       "      <td>0</td>\n",
       "      <td>0</td>\n",
       "      <td>0</td>\n",
       "    </tr>\n",
       "    <tr>\n",
       "      <th>7</th>\n",
       "      <td>1/10/2020</td>\n",
       "      <td>LK</td>\n",
       "      <td>Sri Lanka</td>\n",
       "      <td>SEARO</td>\n",
       "      <td>0</td>\n",
       "      <td>0</td>\n",
       "      <td>0</td>\n",
       "      <td>0</td>\n",
       "    </tr>\n",
       "    <tr>\n",
       "      <th>8</th>\n",
       "      <td>1/11/2020</td>\n",
       "      <td>LK</td>\n",
       "      <td>Sri Lanka</td>\n",
       "      <td>SEARO</td>\n",
       "      <td>0</td>\n",
       "      <td>0</td>\n",
       "      <td>0</td>\n",
       "      <td>0</td>\n",
       "    </tr>\n",
       "    <tr>\n",
       "      <th>9</th>\n",
       "      <td>1/12/2020</td>\n",
       "      <td>LK</td>\n",
       "      <td>Sri Lanka</td>\n",
       "      <td>SEARO</td>\n",
       "      <td>0</td>\n",
       "      <td>0</td>\n",
       "      <td>0</td>\n",
       "      <td>0</td>\n",
       "    </tr>\n",
       "    <tr>\n",
       "      <th>10</th>\n",
       "      <td>1/13/2020</td>\n",
       "      <td>LK</td>\n",
       "      <td>Sri Lanka</td>\n",
       "      <td>SEARO</td>\n",
       "      <td>0</td>\n",
       "      <td>0</td>\n",
       "      <td>0</td>\n",
       "      <td>0</td>\n",
       "    </tr>\n",
       "    <tr>\n",
       "      <th>11</th>\n",
       "      <td>1/14/2020</td>\n",
       "      <td>LK</td>\n",
       "      <td>Sri Lanka</td>\n",
       "      <td>SEARO</td>\n",
       "      <td>0</td>\n",
       "      <td>0</td>\n",
       "      <td>0</td>\n",
       "      <td>0</td>\n",
       "    </tr>\n",
       "    <tr>\n",
       "      <th>12</th>\n",
       "      <td>1/15/2020</td>\n",
       "      <td>LK</td>\n",
       "      <td>Sri Lanka</td>\n",
       "      <td>SEARO</td>\n",
       "      <td>0</td>\n",
       "      <td>0</td>\n",
       "      <td>0</td>\n",
       "      <td>0</td>\n",
       "    </tr>\n",
       "    <tr>\n",
       "      <th>13</th>\n",
       "      <td>1/16/2020</td>\n",
       "      <td>LK</td>\n",
       "      <td>Sri Lanka</td>\n",
       "      <td>SEARO</td>\n",
       "      <td>0</td>\n",
       "      <td>0</td>\n",
       "      <td>0</td>\n",
       "      <td>0</td>\n",
       "    </tr>\n",
       "    <tr>\n",
       "      <th>14</th>\n",
       "      <td>1/17/2020</td>\n",
       "      <td>LK</td>\n",
       "      <td>Sri Lanka</td>\n",
       "      <td>SEARO</td>\n",
       "      <td>0</td>\n",
       "      <td>0</td>\n",
       "      <td>0</td>\n",
       "      <td>0</td>\n",
       "    </tr>\n",
       "    <tr>\n",
       "      <th>15</th>\n",
       "      <td>1/18/2020</td>\n",
       "      <td>LK</td>\n",
       "      <td>Sri Lanka</td>\n",
       "      <td>SEARO</td>\n",
       "      <td>0</td>\n",
       "      <td>0</td>\n",
       "      <td>0</td>\n",
       "      <td>0</td>\n",
       "    </tr>\n",
       "    <tr>\n",
       "      <th>16</th>\n",
       "      <td>1/19/2020</td>\n",
       "      <td>LK</td>\n",
       "      <td>Sri Lanka</td>\n",
       "      <td>SEARO</td>\n",
       "      <td>0</td>\n",
       "      <td>0</td>\n",
       "      <td>0</td>\n",
       "      <td>0</td>\n",
       "    </tr>\n",
       "    <tr>\n",
       "      <th>17</th>\n",
       "      <td>1/20/2020</td>\n",
       "      <td>LK</td>\n",
       "      <td>Sri Lanka</td>\n",
       "      <td>SEARO</td>\n",
       "      <td>0</td>\n",
       "      <td>0</td>\n",
       "      <td>0</td>\n",
       "      <td>0</td>\n",
       "    </tr>\n",
       "    <tr>\n",
       "      <th>18</th>\n",
       "      <td>1/21/2020</td>\n",
       "      <td>LK</td>\n",
       "      <td>Sri Lanka</td>\n",
       "      <td>SEARO</td>\n",
       "      <td>0</td>\n",
       "      <td>0</td>\n",
       "      <td>0</td>\n",
       "      <td>0</td>\n",
       "    </tr>\n",
       "    <tr>\n",
       "      <th>19</th>\n",
       "      <td>1/22/2020</td>\n",
       "      <td>LK</td>\n",
       "      <td>Sri Lanka</td>\n",
       "      <td>SEARO</td>\n",
       "      <td>0</td>\n",
       "      <td>0</td>\n",
       "      <td>0</td>\n",
       "      <td>0</td>\n",
       "    </tr>\n",
       "  </tbody>\n",
       "</table>\n",
       "</div>"
      ],
      "text/plain": [
       "   Date_reported Country_code    Country WHO_region  New_cases  \\\n",
       "0       1/3/2020           LK  Sri Lanka      SEARO          0   \n",
       "1       1/4/2020           LK  Sri Lanka      SEARO          0   \n",
       "2       1/5/2020           LK  Sri Lanka      SEARO          0   \n",
       "3       1/6/2020           LK  Sri Lanka      SEARO          0   \n",
       "4       1/7/2020           LK  Sri Lanka      SEARO          0   \n",
       "5       1/8/2020           LK  Sri Lanka      SEARO          0   \n",
       "6       1/9/2020           LK  Sri Lanka      SEARO          0   \n",
       "7      1/10/2020           LK  Sri Lanka      SEARO          0   \n",
       "8      1/11/2020           LK  Sri Lanka      SEARO          0   \n",
       "9      1/12/2020           LK  Sri Lanka      SEARO          0   \n",
       "10     1/13/2020           LK  Sri Lanka      SEARO          0   \n",
       "11     1/14/2020           LK  Sri Lanka      SEARO          0   \n",
       "12     1/15/2020           LK  Sri Lanka      SEARO          0   \n",
       "13     1/16/2020           LK  Sri Lanka      SEARO          0   \n",
       "14     1/17/2020           LK  Sri Lanka      SEARO          0   \n",
       "15     1/18/2020           LK  Sri Lanka      SEARO          0   \n",
       "16     1/19/2020           LK  Sri Lanka      SEARO          0   \n",
       "17     1/20/2020           LK  Sri Lanka      SEARO          0   \n",
       "18     1/21/2020           LK  Sri Lanka      SEARO          0   \n",
       "19     1/22/2020           LK  Sri Lanka      SEARO          0   \n",
       "\n",
       "    Cumulative_cases  New_deaths  Cumulative_deaths  \n",
       "0                  0           0                  0  \n",
       "1                  0           0                  0  \n",
       "2                  0           0                  0  \n",
       "3                  0           0                  0  \n",
       "4                  0           0                  0  \n",
       "5                  0           0                  0  \n",
       "6                  0           0                  0  \n",
       "7                  0           0                  0  \n",
       "8                  0           0                  0  \n",
       "9                  0           0                  0  \n",
       "10                 0           0                  0  \n",
       "11                 0           0                  0  \n",
       "12                 0           0                  0  \n",
       "13                 0           0                  0  \n",
       "14                 0           0                  0  \n",
       "15                 0           0                  0  \n",
       "16                 0           0                  0  \n",
       "17                 0           0                  0  \n",
       "18                 0           0                  0  \n",
       "19                 0           0                  0  "
      ]
     },
     "execution_count": 2,
     "metadata": {},
     "output_type": "execute_result"
    }
   ],
   "source": [
    "# Daily state of the covid-19 reported to the World healt organization \n",
    "\n",
    "dataset = pd.read_csv('WHO-COVID-19-global-data-Sri-Lanka.csv')\n",
    "dataset.head(20)"
   ]
  },
  {
   "cell_type": "code",
   "execution_count": 3,
   "id": "580305dd",
   "metadata": {},
   "outputs": [
    {
     "data": {
      "text/plain": [
       "13.994181213632585"
      ]
     },
     "execution_count": 3,
     "metadata": {},
     "output_type": "execute_result"
    }
   ],
   "source": [
    "lam = np.mean(dataset['New_deaths'])\n",
    "lam"
   ]
  },
  {
   "cell_type": "code",
   "execution_count": 4,
   "id": "a56781fa",
   "metadata": {},
   "outputs": [
    {
     "data": {
      "text/plain": [
       "34.06997008053079"
      ]
     },
     "execution_count": 4,
     "metadata": {},
     "output_type": "execute_result"
    }
   ],
   "source": [
    "dataset['New_deaths'].std()"
   ]
  },
  {
   "cell_type": "code",
   "execution_count": 5,
   "id": "839b7e11",
   "metadata": {},
   "outputs": [
    {
     "data": {
      "text/plain": [
       "1160.7628612882631"
      ]
     },
     "execution_count": 5,
     "metadata": {},
     "output_type": "execute_result"
    }
   ],
   "source": [
    "dataset['New_deaths'].var()"
   ]
  },
  {
   "cell_type": "code",
   "execution_count": 6,
   "id": "01c90c81",
   "metadata": {},
   "outputs": [
    {
     "name": "stdout",
     "output_type": "stream",
     "text": [
      "P(X = 7) =  0.0174423998244581\n"
     ]
    }
   ],
   "source": [
    "# 'lam' is the number of covid 19 deaths per day on average. What is the probability that will happen 7 deaths on a given day? \n",
    "\n",
    "print('P(X = 7) = ', poisson.pmf(k=7, mu=lam))"
   ]
  },
  {
   "cell_type": "code",
   "execution_count": 7,
   "id": "669aee80",
   "metadata": {},
   "outputs": [
    {
     "name": "stdout",
     "output_type": "stream",
     "text": [
      "P(X <= 10) =  0.10967514165094827\n"
     ]
    }
   ],
   "source": [
    "#'lam' is the number of covid 19 deaths per day on average. What is the probability that will happen less than 10 deaths  \n",
    "# on a given day?\n",
    "\n",
    "print('P(X <= 10) = ', poisson.cdf(k=9, mu=lam))"
   ]
  },
  {
   "cell_type": "code",
   "execution_count": 8,
   "id": "9f6cf93a",
   "metadata": {},
   "outputs": [
    {
     "name": "stdout",
     "output_type": "stream",
     "text": [
      "P(X > 20) =  0.04774221971726533\n"
     ]
    }
   ],
   "source": [
    "#'lam' is the number of covid 19 deaths per day on average. What is the probability that will happen greater than 20 deaths  \n",
    "# on a given day?\n",
    "\n",
    "print('P(X > 20) = ', 1-poisson.cdf(k=20, mu=lam))"
   ]
  },
  {
   "cell_type": "code",
   "execution_count": 9,
   "id": "6f5d5ca4",
   "metadata": {},
   "outputs": [
    {
     "name": "stdout",
     "output_type": "stream",
     "text": [
      "P(5 < X <= 12) =  0.3552905650582545\n"
     ]
    }
   ],
   "source": [
    "#'lam' is the number of covid 19 deaths per day on average. What is the probability that will happen greater than 5  and   \n",
    "# less than or equal 12 deaths on a given day?\n",
    "\n",
    "print('P(5 < X <= 12) = ', poisson.cdf(k=12, mu=lam) - poisson.pmf(k=5, mu=lam))"
   ]
  },
  {
   "cell_type": "code",
   "execution_count": 14,
   "id": "c46165db",
   "metadata": {},
   "outputs": [
    {
     "data": {
      "text/plain": [
       "Text(0, 0.5, 'Probability of the each number of deaths')"
      ]
     },
     "execution_count": 14,
     "metadata": {},
     "output_type": "execute_result"
    },
    {
     "data": {
      "image/png": "[encoded data removed]",
      "text/plain": [
       "<Figure size 640x480 with 1 Axes>"
      ]
     },
     "metadata": {},
     "output_type": "display_data"
    }
   ],
   "source": [
    "plt.hist(dataset['New_deaths'], density=True, bins=100)\n",
    "plt.title('Poisson Distribution')\n",
    "plt.xlabel('No. of deaths per day')\n",
    "plt.ylabel('Probability of the each number of deaths')"
   ]
  },
  {
   "cell_type": "code",
   "execution_count": null,
   "id": "9ade4baa",
   "metadata": {},
   "outputs": [],
   "source": []
  }
 ],
 "metadata": {
  "kernelspec": {
   "display_name": "Python 3 (ipykernel)",
   "language": "python",
   "name": "python3"
  },
  "language_info": {
   "codemirror_mode": {
    "name": "ipython",
    "version": 3
   },
   "file_extension": ".py",
   "mimetype": "text/x-python",
   "name": "python",
   "nbconvert_exporter": "python",
   "pygments_lexer": "ipython3",
   "version": "3.9.13"
  }
 },
 "nbformat": 4,
 "nbformat_minor": 5
}
