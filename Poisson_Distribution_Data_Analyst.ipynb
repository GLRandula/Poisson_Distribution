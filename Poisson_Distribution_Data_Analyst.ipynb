{
 "cells": [
  {
   "cell_type": "markdown",
   "id": "ec70d545",
   "metadata": {},
   "source": [
    "# Poisson Distribution Data Analyzation"
   ]
  },
  {
   "cell_type": "code",
   "execution_count": 1,
   "id": "be208fb4",
   "metadata": {},
   "outputs": [],
   "source": [
    "from scipy.stats import poisson\n",
    "import numpy as np\n",
    "import pandas as pd\n",
    "import matplotlib.pyplot as plt"
   ]
  },
  {
   "cell_type": "code",
   "execution_count": 2,
   "id": "1f3403ef",
   "metadata": {},
   "outputs": [
    {
     "data": {
      "text/html": [
       "<div>\n",
       "<style scoped>\n",
       "    .dataframe tbody tr th:only-of-type {\n",
       "        vertical-align: middle;\n",
       "    }\n",
       "\n",
       "    .dataframe tbody tr th {\n",
       "        vertical-align: top;\n",
       "    }\n",
       "\n",
       "    .dataframe thead th {\n",
       "        text-align: right;\n",
       "    }\n",
       "</style>\n",
       "<table border=\"1\" class=\"dataframe\">\n",
       "  <thead>\n",
       "    <tr style=\"text-align: right;\">\n",
       "      <th></th>\n",
       "      <th>Date_reported</th>\n",
       "      <th>Country_code</th>\n",
       "      <th>Country</th>\n",
       "      <th>WHO_region</th>\n",
       "      <th>New_cases</th>\n",
       "      <th>New_deaths</th>\n",
       "    </tr>\n",
       "  </thead>\n",
       "  <tbody>\n",
       "    <tr>\n",
       "      <th>0</th>\n",
       "      <td>1/1/2021</td>\n",
       "      <td>LK</td>\n",
       "      <td>Sri Lanka</td>\n",
       "      <td>SEARO</td>\n",
       "      <td>557</td>\n",
       "      <td>0</td>\n",
       "    </tr>\n",
       "    <tr>\n",
       "      <th>1</th>\n",
       "      <td>1/2/2021</td>\n",
       "      <td>LK</td>\n",
       "      <td>Sri Lanka</td>\n",
       "      <td>SEARO</td>\n",
       "      <td>515</td>\n",
       "      <td>7</td>\n",
       "    </tr>\n",
       "    <tr>\n",
       "      <th>2</th>\n",
       "      <td>1/3/2021</td>\n",
       "      <td>LK</td>\n",
       "      <td>Sri Lanka</td>\n",
       "      <td>SEARO</td>\n",
       "      <td>403</td>\n",
       "      <td>2</td>\n",
       "    </tr>\n",
       "    <tr>\n",
       "      <th>3</th>\n",
       "      <td>1/4/2021</td>\n",
       "      <td>LK</td>\n",
       "      <td>Sri Lanka</td>\n",
       "      <td>SEARO</td>\n",
       "      <td>468</td>\n",
       "      <td>2</td>\n",
       "    </tr>\n",
       "    <tr>\n",
       "      <th>4</th>\n",
       "      <td>1/5/2021</td>\n",
       "      <td>LK</td>\n",
       "      <td>Sri Lanka</td>\n",
       "      <td>SEARO</td>\n",
       "      <td>484</td>\n",
       "      <td>2</td>\n",
       "    </tr>\n",
       "    <tr>\n",
       "      <th>5</th>\n",
       "      <td>1/6/2021</td>\n",
       "      <td>LK</td>\n",
       "      <td>Sri Lanka</td>\n",
       "      <td>SEARO</td>\n",
       "      <td>522</td>\n",
       "      <td>2</td>\n",
       "    </tr>\n",
       "    <tr>\n",
       "      <th>6</th>\n",
       "      <td>1/7/2021</td>\n",
       "      <td>LK</td>\n",
       "      <td>Sri Lanka</td>\n",
       "      <td>SEARO</td>\n",
       "      <td>532</td>\n",
       "      <td>0</td>\n",
       "    </tr>\n",
       "    <tr>\n",
       "      <th>7</th>\n",
       "      <td>1/8/2021</td>\n",
       "      <td>LK</td>\n",
       "      <td>Sri Lanka</td>\n",
       "      <td>SEARO</td>\n",
       "      <td>525</td>\n",
       "      <td>3</td>\n",
       "    </tr>\n",
       "    <tr>\n",
       "      <th>8</th>\n",
       "      <td>1/9/2021</td>\n",
       "      <td>LK</td>\n",
       "      <td>Sri Lanka</td>\n",
       "      <td>SEARO</td>\n",
       "      <td>535</td>\n",
       "      <td>7</td>\n",
       "    </tr>\n",
       "    <tr>\n",
       "      <th>9</th>\n",
       "      <td>1/10/2021</td>\n",
       "      <td>LK</td>\n",
       "      <td>Sri Lanka</td>\n",
       "      <td>SEARO</td>\n",
       "      <td>540</td>\n",
       "      <td>3</td>\n",
       "    </tr>\n",
       "    <tr>\n",
       "      <th>10</th>\n",
       "      <td>1/11/2021</td>\n",
       "      <td>LK</td>\n",
       "      <td>Sri Lanka</td>\n",
       "      <td>SEARO</td>\n",
       "      <td>569</td>\n",
       "      <td>0</td>\n",
       "    </tr>\n",
       "    <tr>\n",
       "      <th>11</th>\n",
       "      <td>1/12/2021</td>\n",
       "      <td>LK</td>\n",
       "      <td>Sri Lanka</td>\n",
       "      <td>SEARO</td>\n",
       "      <td>588</td>\n",
       "      <td>12</td>\n",
       "    </tr>\n",
       "    <tr>\n",
       "      <th>12</th>\n",
       "      <td>1/13/2021</td>\n",
       "      <td>LK</td>\n",
       "      <td>Sri Lanka</td>\n",
       "      <td>SEARO</td>\n",
       "      <td>692</td>\n",
       "      <td>3</td>\n",
       "    </tr>\n",
       "    <tr>\n",
       "      <th>13</th>\n",
       "      <td>1/14/2021</td>\n",
       "      <td>LK</td>\n",
       "      <td>Sri Lanka</td>\n",
       "      <td>SEARO</td>\n",
       "      <td>670</td>\n",
       "      <td>4</td>\n",
       "    </tr>\n",
       "    <tr>\n",
       "      <th>14</th>\n",
       "      <td>1/15/2021</td>\n",
       "      <td>LK</td>\n",
       "      <td>Sri Lanka</td>\n",
       "      <td>SEARO</td>\n",
       "      <td>695</td>\n",
       "      <td>4</td>\n",
       "    </tr>\n",
       "    <tr>\n",
       "      <th>15</th>\n",
       "      <td>1/16/2021</td>\n",
       "      <td>LK</td>\n",
       "      <td>Sri Lanka</td>\n",
       "      <td>SEARO</td>\n",
       "      <td>719</td>\n",
       "      <td>1</td>\n",
       "    </tr>\n",
       "    <tr>\n",
       "      <th>16</th>\n",
       "      <td>1/17/2021</td>\n",
       "      <td>LK</td>\n",
       "      <td>Sri Lanka</td>\n",
       "      <td>SEARO</td>\n",
       "      <td>749</td>\n",
       "      <td>8</td>\n",
       "    </tr>\n",
       "    <tr>\n",
       "      <th>17</th>\n",
       "      <td>1/18/2021</td>\n",
       "      <td>LK</td>\n",
       "      <td>Sri Lanka</td>\n",
       "      <td>SEARO</td>\n",
       "      <td>688</td>\n",
       "      <td>6</td>\n",
       "    </tr>\n",
       "    <tr>\n",
       "      <th>18</th>\n",
       "      <td>1/19/2021</td>\n",
       "      <td>LK</td>\n",
       "      <td>Sri Lanka</td>\n",
       "      <td>SEARO</td>\n",
       "      <td>669</td>\n",
       "      <td>3</td>\n",
       "    </tr>\n",
       "    <tr>\n",
       "      <th>19</th>\n",
       "      <td>1/20/2021</td>\n",
       "      <td>LK</td>\n",
       "      <td>Sri Lanka</td>\n",
       "      <td>SEARO</td>\n",
       "      <td>770</td>\n",
       "      <td>1</td>\n",
       "    </tr>\n",
       "  </tbody>\n",
       "</table>\n",
       "</div>"
      ],
      "text/plain": [
       "   Date_reported Country_code    Country WHO_region  New_cases  New_deaths\n",
       "0       1/1/2021           LK  Sri Lanka      SEARO        557           0\n",
       "1       1/2/2021           LK  Sri Lanka      SEARO        515           7\n",
       "2       1/3/2021           LK  Sri Lanka      SEARO        403           2\n",
       "3       1/4/2021           LK  Sri Lanka      SEARO        468           2\n",
       "4       1/5/2021           LK  Sri Lanka      SEARO        484           2\n",
       "5       1/6/2021           LK  Sri Lanka      SEARO        522           2\n",
       "6       1/7/2021           LK  Sri Lanka      SEARO        532           0\n",
       "7       1/8/2021           LK  Sri Lanka      SEARO        525           3\n",
       "8       1/9/2021           LK  Sri Lanka      SEARO        535           7\n",
       "9      1/10/2021           LK  Sri Lanka      SEARO        540           3\n",
       "10     1/11/2021           LK  Sri Lanka      SEARO        569           0\n",
       "11     1/12/2021           LK  Sri Lanka      SEARO        588          12\n",
       "12     1/13/2021           LK  Sri Lanka      SEARO        692           3\n",
       "13     1/14/2021           LK  Sri Lanka      SEARO        670           4\n",
       "14     1/15/2021           LK  Sri Lanka      SEARO        695           4\n",
       "15     1/16/2021           LK  Sri Lanka      SEARO        719           1\n",
       "16     1/17/2021           LK  Sri Lanka      SEARO        749           8\n",
       "17     1/18/2021           LK  Sri Lanka      SEARO        688           6\n",
       "18     1/19/2021           LK  Sri Lanka      SEARO        669           3\n",
       "19     1/20/2021           LK  Sri Lanka      SEARO        770           1"
      ]
     },
     "execution_count": 2,
     "metadata": {},
     "output_type": "execute_result"
    }
   ],
   "source": [
    "# Daily state of the covid-19 reported to the World healt organization \n",
    "\n",
    "dataset = pd.read_csv('WHO_COVID-19_global_data_Sri_Lanka.csv')\n",
    "dataset.head(20)"
   ]
  },
  {
   "cell_type": "code",
   "execution_count": 3,
   "id": "580305dd",
   "metadata": {},
   "outputs": [
    {
     "data": {
      "text/plain": [
       "22.757534246575343"
      ]
     },
     "execution_count": 3,
     "metadata": {},
     "output_type": "execute_result"
    }
   ],
   "source": [
    "# Mean of the dataset\n",
    "\n",
    "np.mean(dataset['New_deaths'])"
   ]
  },
  {
   "cell_type": "code",
   "execution_count": 4,
   "id": "a56781fa",
   "metadata": {},
   "outputs": [
    {
     "data": {
      "text/plain": [
       "41.438239424973965"
      ]
     },
     "execution_count": 4,
     "metadata": {},
     "output_type": "execute_result"
    }
   ],
   "source": [
    "# Standard Diviation of the dataset\n",
    "\n",
    "dataset['New_deaths'].std()"
   ]
  },
  {
   "cell_type": "code",
   "execution_count": 5,
   "id": "839b7e11",
   "metadata": {
    "scrolled": true
   },
   "outputs": [
    {
     "data": {
      "text/plain": [
       "1717.1276866414664"
      ]
     },
     "execution_count": 5,
     "metadata": {},
     "output_type": "execute_result"
    }
   ],
   "source": [
    "# Varience of the dataset\n",
    "\n",
    "dataset['New_deaths'].var()"
   ]
  },
  {
   "cell_type": "markdown",
   "id": "12f1e93a",
   "metadata": {},
   "source": [
    "Hence the poisson distribution is discrete, We should take 23 as the parameter of the distribution.\n",
    "(Mean of the dataset = 22.757534246575343)\n",
    "\n",
    "X ~ Poisson(23)\n",
    "\n",
    "    Mean = 23\n",
    "    Varience = 23\n",
    "    Standard Diviation = 4.796"
   ]
  },
  {
   "cell_type": "code",
   "execution_count": 6,
   "id": "0e4c42e3",
   "metadata": {},
   "outputs": [],
   "source": [
    "lam = 23  # Mean / Parameter"
   ]
  },
  {
   "cell_type": "code",
   "execution_count": 7,
   "id": "01c90c81",
   "metadata": {},
   "outputs": [
    {
     "name": "stdout",
     "output_type": "stream",
     "text": [
      "P(X = 20) =  0.07238674024358885\n"
     ]
    }
   ],
   "source": [
    "# 'lam' is the number of covid 19 deaths per day on average. What is the probability that will happen 20 deaths on a given day? \n",
    "\n",
    "print('P(X = 20) = ', poisson.pmf(k=20, mu=lam))"
   ]
  },
  {
   "cell_type": "code",
   "execution_count": 8,
   "id": "669aee80",
   "metadata": {},
   "outputs": [
    {
     "name": "stdout",
     "output_type": "stream",
     "text": [
      "P(X <= 25) =  0.7076572028970711\n"
     ]
    }
   ],
   "source": [
    "#'lam' is the number of covid 19 deaths per day on average. What is the probability that will happen less than 25 deaths  \n",
    "# on a given day?\n",
    "\n",
    "print('P(X <= 25) = ', poisson.cdf(k=25, mu=lam))"
   ]
  },
  {
   "cell_type": "code",
   "execution_count": 9,
   "id": "9f6cf93a",
   "metadata": {},
   "outputs": [
    {
     "name": "stdout",
     "output_type": "stream",
     "text": [
      "P(X > 30) =  0.06401702728539238\n"
     ]
    }
   ],
   "source": [
    "#'lam' is the number of covid 19 deaths per day on average. What is the probability that will happen greater than 30 deaths  \n",
    "# on a given day?\n",
    "\n",
    "print('P(X > 30) = ', 1-poisson.cdf(k=30, mu=lam))"
   ]
  },
  {
   "cell_type": "code",
   "execution_count": 10,
   "id": "6f5d5ca4",
   "metadata": {},
   "outputs": [
    {
     "name": "stdout",
     "output_type": "stream",
     "text": [
      "P(15 < X <= 25) =  0.6867331964405489\n"
     ]
    }
   ],
   "source": [
    "#'lam' is the number of covid 19 deaths per day on average. What is the probability that will happen greater than 15  and   \n",
    "# less than or equal 25 deaths on a given day?\n",
    "\n",
    "print('P(15 < X <= 25) = ', poisson.cdf(k=25, mu=lam) - poisson.pmf(k=15, mu=lam))"
   ]
  },
  {
   "cell_type": "code",
   "execution_count": 11,
   "id": "9bfd9e91",
   "metadata": {},
   "outputs": [
    {
     "name": "stdout",
     "output_type": "stream",
     "text": [
      "P(X = 150) =  0.022160339390726258\n"
     ]
    }
   ],
   "source": [
    "# What is the probability that will happen 100 deaths on a given week?\n",
    "\n",
    "#     lam (number of covid 19 deaths per day) = 23\n",
    "#     lam2 (number of covid 19 deaths per week) = 23*7 = 161\n",
    "\n",
    "lam2 = 161\n",
    "print('P(X = 150) = ', poisson.pmf(k=150, mu=lam2))"
   ]
  },
  {
   "cell_type": "code",
   "execution_count": 12,
   "id": "360f8f1c",
   "metadata": {},
   "outputs": [
    {
     "name": "stdout",
     "output_type": "stream",
     "text": [
      "P(600 < X <= 700) =  0.6572448910267373\n"
     ]
    }
   ],
   "source": [
    "# What is the probability that will happen greater than 600 and less than or equal 700 deaths on a given month?\n",
    "\n",
    "#     lam (number of covid 19 deaths per day) = 23\n",
    "#     lam3 (number of covid 19 deaths per month) = 23*30 = 690\n",
    "\n",
    "lam3 = 690\n",
    "print('P(600 < X <= 700) = ', poisson.cdf(k=700, mu=lam3) - poisson.pmf(k=600, mu=lam3))"
   ]
  },
  {
   "cell_type": "code",
   "execution_count": 13,
   "id": "c46165db",
   "metadata": {},
   "outputs": [
    {
     "data": {
      "text/plain": [
       "Text(0, 0.5, 'Probability of the each number of deaths')"
      ]
     },
     "execution_count": 13,
     "metadata": {},
     "output_type": "execute_result"
    },
    {
     "data": {
      "image/png": "[encoded data removed]",
      "text/plain": [
       "<Figure size 640x480 with 1 Axes>"
      ]
     },
     "metadata": {},
     "output_type": "display_data"
    }
   ],
   "source": [
    "plt.hist(dataset['New_deaths'], density=True, bins=100)\n",
    "plt.title('Poisson Distribution')\n",
    "plt.xlabel('No. of deaths per day')\n",
    "plt.ylabel('Probability of the each number of deaths')"
   ]
  },
  {
   "cell_type": "code",
   "execution_count": null,
   "id": "9ade4baa",
   "metadata": {},
   "outputs": [],
   "source": []
  }
 ],
 "metadata": {
  "kernelspec": {
   "display_name": "Python 3 (ipykernel)",
   "language": "python",
   "name": "python3"
  },
  "language_info": {
   "codemirror_mode": {
    "name": "ipython",
    "version": 3
   },
   "file_extension": ".py",
   "mimetype": "text/x-python",
   "name": "python",
   "nbconvert_exporter": "python",
   "pygments_lexer": "ipython3",
   "version": "3.9.13"
  }
 },
 "nbformat": 4,
 "nbformat_minor": 5
}
