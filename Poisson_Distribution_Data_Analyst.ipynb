{
 "cells": [
  {
   "cell_type": "markdown",
   "id": "ec70d545",
   "metadata": {},
   "source": [
    "# Poisson Distribution Data Analyzation"
   ]
  },
  {
   "cell_type": "code",
   "execution_count": 1,
   "id": "be208fb4",
   "metadata": {},
   "outputs": [],
   "source": [
    "from scipy.stats import poisson\n",
    "import numpy as np\n",
    "import pandas as pd\n",
    "import matplotlib.pyplot as plt"
   ]
  },
  {
   "cell_type": "code",
   "execution_count": 2,
   "id": "1f3403ef",
   "metadata": {},
   "outputs": [
    {
     "data": {
      "text/html": [
       "<div>\n",
       "<style scoped>\n",
       "    .dataframe tbody tr th:only-of-type {\n",
       "        vertical-align: middle;\n",
       "    }\n",
       "\n",
       "    .dataframe tbody tr th {\n",
       "        vertical-align: top;\n",
       "    }\n",
       "\n",
       "    .dataframe thead th {\n",
       "        text-align: right;\n",
       "    }\n",
       "</style>\n",
       "<table border=\"1\" class=\"dataframe\">\n",
       "  <thead>\n",
       "    <tr style=\"text-align: right;\">\n",
       "      <th></th>\n",
       "      <th>Date_reported</th>\n",
       "      <th>Country_code</th>\n",
       "      <th>Country</th>\n",
       "      <th>WHO_region</th>\n",
       "      <th>New_cases</th>\n",
       "      <th>New_deaths</th>\n",
       "    </tr>\n",
       "  </thead>\n",
       "  <tbody>\n",
       "    <tr>\n",
       "      <th>0</th>\n",
       "      <td>7/1/2021</td>\n",
       "      <td>LK</td>\n",
       "      <td>Sri Lanka</td>\n",
       "      <td>SEARO</td>\n",
       "      <td>1883</td>\n",
       "      <td>43</td>\n",
       "    </tr>\n",
       "    <tr>\n",
       "      <th>1</th>\n",
       "      <td>7/2/2021</td>\n",
       "      <td>LK</td>\n",
       "      <td>Sri Lanka</td>\n",
       "      <td>SEARO</td>\n",
       "      <td>1823</td>\n",
       "      <td>37</td>\n",
       "    </tr>\n",
       "    <tr>\n",
       "      <th>2</th>\n",
       "      <td>7/3/2021</td>\n",
       "      <td>LK</td>\n",
       "      <td>Sri Lanka</td>\n",
       "      <td>SEARO</td>\n",
       "      <td>1262</td>\n",
       "      <td>34</td>\n",
       "    </tr>\n",
       "    <tr>\n",
       "      <th>3</th>\n",
       "      <td>7/4/2021</td>\n",
       "      <td>LK</td>\n",
       "      <td>Sri Lanka</td>\n",
       "      <td>SEARO</td>\n",
       "      <td>1573</td>\n",
       "      <td>45</td>\n",
       "    </tr>\n",
       "    <tr>\n",
       "      <th>4</th>\n",
       "      <td>7/5/2021</td>\n",
       "      <td>LK</td>\n",
       "      <td>Sri Lanka</td>\n",
       "      <td>SEARO</td>\n",
       "      <td>869</td>\n",
       "      <td>32</td>\n",
       "    </tr>\n",
       "    <tr>\n",
       "      <th>5</th>\n",
       "      <td>7/6/2021</td>\n",
       "      <td>LK</td>\n",
       "      <td>Sri Lanka</td>\n",
       "      <td>SEARO</td>\n",
       "      <td>934</td>\n",
       "      <td>45</td>\n",
       "    </tr>\n",
       "    <tr>\n",
       "      <th>6</th>\n",
       "      <td>7/7/2021</td>\n",
       "      <td>LK</td>\n",
       "      <td>Sri Lanka</td>\n",
       "      <td>SEARO</td>\n",
       "      <td>1243</td>\n",
       "      <td>38</td>\n",
       "    </tr>\n",
       "    <tr>\n",
       "      <th>7</th>\n",
       "      <td>7/8/2021</td>\n",
       "      <td>LK</td>\n",
       "      <td>Sri Lanka</td>\n",
       "      <td>SEARO</td>\n",
       "      <td>1270</td>\n",
       "      <td>40</td>\n",
       "    </tr>\n",
       "    <tr>\n",
       "      <th>8</th>\n",
       "      <td>7/9/2021</td>\n",
       "      <td>LK</td>\n",
       "      <td>Sri Lanka</td>\n",
       "      <td>SEARO</td>\n",
       "      <td>1537</td>\n",
       "      <td>43</td>\n",
       "    </tr>\n",
       "    <tr>\n",
       "      <th>9</th>\n",
       "      <td>7/10/2021</td>\n",
       "      <td>LK</td>\n",
       "      <td>Sri Lanka</td>\n",
       "      <td>SEARO</td>\n",
       "      <td>1548</td>\n",
       "      <td>33</td>\n",
       "    </tr>\n",
       "    <tr>\n",
       "      <th>10</th>\n",
       "      <td>7/11/2021</td>\n",
       "      <td>LK</td>\n",
       "      <td>Sri Lanka</td>\n",
       "      <td>SEARO</td>\n",
       "      <td>1507</td>\n",
       "      <td>35</td>\n",
       "    </tr>\n",
       "    <tr>\n",
       "      <th>11</th>\n",
       "      <td>7/12/2021</td>\n",
       "      <td>LK</td>\n",
       "      <td>Sri Lanka</td>\n",
       "      <td>SEARO</td>\n",
       "      <td>1568</td>\n",
       "      <td>31</td>\n",
       "    </tr>\n",
       "    <tr>\n",
       "      <th>12</th>\n",
       "      <td>7/13/2021</td>\n",
       "      <td>LK</td>\n",
       "      <td>Sri Lanka</td>\n",
       "      <td>SEARO</td>\n",
       "      <td>1413</td>\n",
       "      <td>41</td>\n",
       "    </tr>\n",
       "    <tr>\n",
       "      <th>13</th>\n",
       "      <td>7/14/2021</td>\n",
       "      <td>LK</td>\n",
       "      <td>Sri Lanka</td>\n",
       "      <td>SEARO</td>\n",
       "      <td>1540</td>\n",
       "      <td>37</td>\n",
       "    </tr>\n",
       "    <tr>\n",
       "      <th>14</th>\n",
       "      <td>7/15/2021</td>\n",
       "      <td>LK</td>\n",
       "      <td>Sri Lanka</td>\n",
       "      <td>SEARO</td>\n",
       "      <td>1484</td>\n",
       "      <td>50</td>\n",
       "    </tr>\n",
       "    <tr>\n",
       "      <th>15</th>\n",
       "      <td>7/16/2021</td>\n",
       "      <td>LK</td>\n",
       "      <td>Sri Lanka</td>\n",
       "      <td>SEARO</td>\n",
       "      <td>1517</td>\n",
       "      <td>41</td>\n",
       "    </tr>\n",
       "    <tr>\n",
       "      <th>16</th>\n",
       "      <td>7/17/2021</td>\n",
       "      <td>LK</td>\n",
       "      <td>Sri Lanka</td>\n",
       "      <td>SEARO</td>\n",
       "      <td>1452</td>\n",
       "      <td>31</td>\n",
       "    </tr>\n",
       "    <tr>\n",
       "      <th>17</th>\n",
       "      <td>7/18/2021</td>\n",
       "      <td>LK</td>\n",
       "      <td>Sri Lanka</td>\n",
       "      <td>SEARO</td>\n",
       "      <td>1420</td>\n",
       "      <td>46</td>\n",
       "    </tr>\n",
       "    <tr>\n",
       "      <th>18</th>\n",
       "      <td>7/19/2021</td>\n",
       "      <td>LK</td>\n",
       "      <td>Sri Lanka</td>\n",
       "      <td>SEARO</td>\n",
       "      <td>1487</td>\n",
       "      <td>48</td>\n",
       "    </tr>\n",
       "    <tr>\n",
       "      <th>19</th>\n",
       "      <td>7/20/2021</td>\n",
       "      <td>LK</td>\n",
       "      <td>Sri Lanka</td>\n",
       "      <td>SEARO</td>\n",
       "      <td>1554</td>\n",
       "      <td>43</td>\n",
       "    </tr>\n",
       "  </tbody>\n",
       "</table>\n",
       "</div>"
      ],
      "text/plain": [
       "   Date_reported Country_code    Country WHO_region  New_cases  New_deaths\n",
       "0       7/1/2021           LK  Sri Lanka      SEARO       1883          43\n",
       "1       7/2/2021           LK  Sri Lanka      SEARO       1823          37\n",
       "2       7/3/2021           LK  Sri Lanka      SEARO       1262          34\n",
       "3       7/4/2021           LK  Sri Lanka      SEARO       1573          45\n",
       "4       7/5/2021           LK  Sri Lanka      SEARO        869          32\n",
       "5       7/6/2021           LK  Sri Lanka      SEARO        934          45\n",
       "6       7/7/2021           LK  Sri Lanka      SEARO       1243          38\n",
       "7       7/8/2021           LK  Sri Lanka      SEARO       1270          40\n",
       "8       7/9/2021           LK  Sri Lanka      SEARO       1537          43\n",
       "9      7/10/2021           LK  Sri Lanka      SEARO       1548          33\n",
       "10     7/11/2021           LK  Sri Lanka      SEARO       1507          35\n",
       "11     7/12/2021           LK  Sri Lanka      SEARO       1568          31\n",
       "12     7/13/2021           LK  Sri Lanka      SEARO       1413          41\n",
       "13     7/14/2021           LK  Sri Lanka      SEARO       1540          37\n",
       "14     7/15/2021           LK  Sri Lanka      SEARO       1484          50\n",
       "15     7/16/2021           LK  Sri Lanka      SEARO       1517          41\n",
       "16     7/17/2021           LK  Sri Lanka      SEARO       1452          31\n",
       "17     7/18/2021           LK  Sri Lanka      SEARO       1420          46\n",
       "18     7/19/2021           LK  Sri Lanka      SEARO       1487          48\n",
       "19     7/20/2021           LK  Sri Lanka      SEARO       1554          43"
      ]
     },
     "execution_count": 2,
     "metadata": {},
     "output_type": "execute_result"
    }
   ],
   "source": [
    "# Daily state of the covid-19 reported to the World healt organization \n",
    "\n",
    "df = pd.read_csv('WHO_COVID-19_global_data_Sri_Lanka_for_a_month.csv')\n",
    "df.head(20)"
   ]
  },
  {
   "cell_type": "code",
   "execution_count": 3,
   "id": "f25c3861",
   "metadata": {},
   "outputs": [
    {
     "data": {
      "text/html": [
       "<div>\n",
       "<style scoped>\n",
       "    .dataframe tbody tr th:only-of-type {\n",
       "        vertical-align: middle;\n",
       "    }\n",
       "\n",
       "    .dataframe tbody tr th {\n",
       "        vertical-align: top;\n",
       "    }\n",
       "\n",
       "    .dataframe thead th {\n",
       "        text-align: right;\n",
       "    }\n",
       "</style>\n",
       "<table border=\"1\" class=\"dataframe\">\n",
       "  <thead>\n",
       "    <tr style=\"text-align: right;\">\n",
       "      <th></th>\n",
       "      <th>Date_reported</th>\n",
       "      <th>Country_code</th>\n",
       "      <th>Country</th>\n",
       "      <th>WHO_region</th>\n",
       "      <th>New_cases</th>\n",
       "      <th>New_deaths</th>\n",
       "      <th>Deaths_per_4_hours</th>\n",
       "    </tr>\n",
       "  </thead>\n",
       "  <tbody>\n",
       "    <tr>\n",
       "      <th>0</th>\n",
       "      <td>7/1/2021</td>\n",
       "      <td>LK</td>\n",
       "      <td>Sri Lanka</td>\n",
       "      <td>SEARO</td>\n",
       "      <td>1883</td>\n",
       "      <td>43</td>\n",
       "      <td>7.166667</td>\n",
       "    </tr>\n",
       "    <tr>\n",
       "      <th>1</th>\n",
       "      <td>7/2/2021</td>\n",
       "      <td>LK</td>\n",
       "      <td>Sri Lanka</td>\n",
       "      <td>SEARO</td>\n",
       "      <td>1823</td>\n",
       "      <td>37</td>\n",
       "      <td>6.166667</td>\n",
       "    </tr>\n",
       "    <tr>\n",
       "      <th>2</th>\n",
       "      <td>7/3/2021</td>\n",
       "      <td>LK</td>\n",
       "      <td>Sri Lanka</td>\n",
       "      <td>SEARO</td>\n",
       "      <td>1262</td>\n",
       "      <td>34</td>\n",
       "      <td>5.666667</td>\n",
       "    </tr>\n",
       "    <tr>\n",
       "      <th>3</th>\n",
       "      <td>7/4/2021</td>\n",
       "      <td>LK</td>\n",
       "      <td>Sri Lanka</td>\n",
       "      <td>SEARO</td>\n",
       "      <td>1573</td>\n",
       "      <td>45</td>\n",
       "      <td>7.500000</td>\n",
       "    </tr>\n",
       "    <tr>\n",
       "      <th>4</th>\n",
       "      <td>7/5/2021</td>\n",
       "      <td>LK</td>\n",
       "      <td>Sri Lanka</td>\n",
       "      <td>SEARO</td>\n",
       "      <td>869</td>\n",
       "      <td>32</td>\n",
       "      <td>5.333333</td>\n",
       "    </tr>\n",
       "    <tr>\n",
       "      <th>5</th>\n",
       "      <td>7/6/2021</td>\n",
       "      <td>LK</td>\n",
       "      <td>Sri Lanka</td>\n",
       "      <td>SEARO</td>\n",
       "      <td>934</td>\n",
       "      <td>45</td>\n",
       "      <td>7.500000</td>\n",
       "    </tr>\n",
       "    <tr>\n",
       "      <th>6</th>\n",
       "      <td>7/7/2021</td>\n",
       "      <td>LK</td>\n",
       "      <td>Sri Lanka</td>\n",
       "      <td>SEARO</td>\n",
       "      <td>1243</td>\n",
       "      <td>38</td>\n",
       "      <td>6.333333</td>\n",
       "    </tr>\n",
       "    <tr>\n",
       "      <th>7</th>\n",
       "      <td>7/8/2021</td>\n",
       "      <td>LK</td>\n",
       "      <td>Sri Lanka</td>\n",
       "      <td>SEARO</td>\n",
       "      <td>1270</td>\n",
       "      <td>40</td>\n",
       "      <td>6.666667</td>\n",
       "    </tr>\n",
       "    <tr>\n",
       "      <th>8</th>\n",
       "      <td>7/9/2021</td>\n",
       "      <td>LK</td>\n",
       "      <td>Sri Lanka</td>\n",
       "      <td>SEARO</td>\n",
       "      <td>1537</td>\n",
       "      <td>43</td>\n",
       "      <td>7.166667</td>\n",
       "    </tr>\n",
       "    <tr>\n",
       "      <th>9</th>\n",
       "      <td>7/10/2021</td>\n",
       "      <td>LK</td>\n",
       "      <td>Sri Lanka</td>\n",
       "      <td>SEARO</td>\n",
       "      <td>1548</td>\n",
       "      <td>33</td>\n",
       "      <td>5.500000</td>\n",
       "    </tr>\n",
       "    <tr>\n",
       "      <th>10</th>\n",
       "      <td>7/11/2021</td>\n",
       "      <td>LK</td>\n",
       "      <td>Sri Lanka</td>\n",
       "      <td>SEARO</td>\n",
       "      <td>1507</td>\n",
       "      <td>35</td>\n",
       "      <td>5.833333</td>\n",
       "    </tr>\n",
       "    <tr>\n",
       "      <th>11</th>\n",
       "      <td>7/12/2021</td>\n",
       "      <td>LK</td>\n",
       "      <td>Sri Lanka</td>\n",
       "      <td>SEARO</td>\n",
       "      <td>1568</td>\n",
       "      <td>31</td>\n",
       "      <td>5.166667</td>\n",
       "    </tr>\n",
       "    <tr>\n",
       "      <th>12</th>\n",
       "      <td>7/13/2021</td>\n",
       "      <td>LK</td>\n",
       "      <td>Sri Lanka</td>\n",
       "      <td>SEARO</td>\n",
       "      <td>1413</td>\n",
       "      <td>41</td>\n",
       "      <td>6.833333</td>\n",
       "    </tr>\n",
       "    <tr>\n",
       "      <th>13</th>\n",
       "      <td>7/14/2021</td>\n",
       "      <td>LK</td>\n",
       "      <td>Sri Lanka</td>\n",
       "      <td>SEARO</td>\n",
       "      <td>1540</td>\n",
       "      <td>37</td>\n",
       "      <td>6.166667</td>\n",
       "    </tr>\n",
       "    <tr>\n",
       "      <th>14</th>\n",
       "      <td>7/15/2021</td>\n",
       "      <td>LK</td>\n",
       "      <td>Sri Lanka</td>\n",
       "      <td>SEARO</td>\n",
       "      <td>1484</td>\n",
       "      <td>50</td>\n",
       "      <td>8.333333</td>\n",
       "    </tr>\n",
       "    <tr>\n",
       "      <th>15</th>\n",
       "      <td>7/16/2021</td>\n",
       "      <td>LK</td>\n",
       "      <td>Sri Lanka</td>\n",
       "      <td>SEARO</td>\n",
       "      <td>1517</td>\n",
       "      <td>41</td>\n",
       "      <td>6.833333</td>\n",
       "    </tr>\n",
       "    <tr>\n",
       "      <th>16</th>\n",
       "      <td>7/17/2021</td>\n",
       "      <td>LK</td>\n",
       "      <td>Sri Lanka</td>\n",
       "      <td>SEARO</td>\n",
       "      <td>1452</td>\n",
       "      <td>31</td>\n",
       "      <td>5.166667</td>\n",
       "    </tr>\n",
       "    <tr>\n",
       "      <th>17</th>\n",
       "      <td>7/18/2021</td>\n",
       "      <td>LK</td>\n",
       "      <td>Sri Lanka</td>\n",
       "      <td>SEARO</td>\n",
       "      <td>1420</td>\n",
       "      <td>46</td>\n",
       "      <td>7.666667</td>\n",
       "    </tr>\n",
       "    <tr>\n",
       "      <th>18</th>\n",
       "      <td>7/19/2021</td>\n",
       "      <td>LK</td>\n",
       "      <td>Sri Lanka</td>\n",
       "      <td>SEARO</td>\n",
       "      <td>1487</td>\n",
       "      <td>48</td>\n",
       "      <td>8.000000</td>\n",
       "    </tr>\n",
       "    <tr>\n",
       "      <th>19</th>\n",
       "      <td>7/20/2021</td>\n",
       "      <td>LK</td>\n",
       "      <td>Sri Lanka</td>\n",
       "      <td>SEARO</td>\n",
       "      <td>1554</td>\n",
       "      <td>43</td>\n",
       "      <td>7.166667</td>\n",
       "    </tr>\n",
       "  </tbody>\n",
       "</table>\n",
       "</div>"
      ],
      "text/plain": [
       "   Date_reported Country_code    Country WHO_region  New_cases  New_deaths  \\\n",
       "0       7/1/2021           LK  Sri Lanka      SEARO       1883          43   \n",
       "1       7/2/2021           LK  Sri Lanka      SEARO       1823          37   \n",
       "2       7/3/2021           LK  Sri Lanka      SEARO       1262          34   \n",
       "3       7/4/2021           LK  Sri Lanka      SEARO       1573          45   \n",
       "4       7/5/2021           LK  Sri Lanka      SEARO        869          32   \n",
       "5       7/6/2021           LK  Sri Lanka      SEARO        934          45   \n",
       "6       7/7/2021           LK  Sri Lanka      SEARO       1243          38   \n",
       "7       7/8/2021           LK  Sri Lanka      SEARO       1270          40   \n",
       "8       7/9/2021           LK  Sri Lanka      SEARO       1537          43   \n",
       "9      7/10/2021           LK  Sri Lanka      SEARO       1548          33   \n",
       "10     7/11/2021           LK  Sri Lanka      SEARO       1507          35   \n",
       "11     7/12/2021           LK  Sri Lanka      SEARO       1568          31   \n",
       "12     7/13/2021           LK  Sri Lanka      SEARO       1413          41   \n",
       "13     7/14/2021           LK  Sri Lanka      SEARO       1540          37   \n",
       "14     7/15/2021           LK  Sri Lanka      SEARO       1484          50   \n",
       "15     7/16/2021           LK  Sri Lanka      SEARO       1517          41   \n",
       "16     7/17/2021           LK  Sri Lanka      SEARO       1452          31   \n",
       "17     7/18/2021           LK  Sri Lanka      SEARO       1420          46   \n",
       "18     7/19/2021           LK  Sri Lanka      SEARO       1487          48   \n",
       "19     7/20/2021           LK  Sri Lanka      SEARO       1554          43   \n",
       "\n",
       "    Deaths_per_4_hours  \n",
       "0             7.166667  \n",
       "1             6.166667  \n",
       "2             5.666667  \n",
       "3             7.500000  \n",
       "4             5.333333  \n",
       "5             7.500000  \n",
       "6             6.333333  \n",
       "7             6.666667  \n",
       "8             7.166667  \n",
       "9             5.500000  \n",
       "10            5.833333  \n",
       "11            5.166667  \n",
       "12            6.833333  \n",
       "13            6.166667  \n",
       "14            8.333333  \n",
       "15            6.833333  \n",
       "16            5.166667  \n",
       "17            7.666667  \n",
       "18            8.000000  \n",
       "19            7.166667  "
      ]
     },
     "execution_count": 3,
     "metadata": {},
     "output_type": "execute_result"
    }
   ],
   "source": [
    "# Add a new column 'Deaths_per_4_hours' using New deaths of the particular day.\n",
    "\n",
    "df['Deaths_per_4_hours'] = df.apply(lambda row: row.New_deaths / 6, axis = 1)\n",
    "df.head(20)"
   ]
  },
  {
   "cell_type": "code",
   "execution_count": 4,
   "id": "77d8356f",
   "metadata": {},
   "outputs": [
    {
     "data": {
      "text/plain": [
       "0      7.0\n",
       "1      6.0\n",
       "2      6.0\n",
       "3      8.0\n",
       "4      5.0\n",
       "5      8.0\n",
       "6      6.0\n",
       "7      7.0\n",
       "8      7.0\n",
       "9      6.0\n",
       "10     6.0\n",
       "11     5.0\n",
       "12     7.0\n",
       "13     6.0\n",
       "14     8.0\n",
       "15     7.0\n",
       "16     5.0\n",
       "17     8.0\n",
       "18     8.0\n",
       "19     7.0\n",
       "20     8.0\n",
       "21     7.0\n",
       "22     7.0\n",
       "23     9.0\n",
       "24     8.0\n",
       "25     8.0\n",
       "26     8.0\n",
       "27    10.0\n",
       "28    11.0\n",
       "29     9.0\n",
       "30    10.0\n",
       "Name: Deaths_per_4_hours, dtype: float64"
      ]
     },
     "execution_count": 4,
     "metadata": {},
     "output_type": "execute_result"
    }
   ],
   "source": [
    "# Round the 'Deaths_per_4_hours' data to nearest 10th decimal place.\n",
    "\n",
    "d_col = df['Deaths_per_4_hours'].round(decimals = 0)\n",
    "d_col"
   ]
  },
  {
   "cell_type": "code",
   "execution_count": 5,
   "id": "580305dd",
   "metadata": {},
   "outputs": [
    {
     "data": {
      "text/plain": [
       "7.354838709677419"
      ]
     },
     "execution_count": 5,
     "metadata": {},
     "output_type": "execute_result"
    }
   ],
   "source": [
    "# Mean of the dataset\n",
    "\n",
    "np.mean(d_col)"
   ]
  },
  {
   "cell_type": "code",
   "execution_count": 6,
   "id": "a56781fa",
   "metadata": {},
   "outputs": [
    {
     "data": {
      "text/plain": [
       "1.473055488811701"
      ]
     },
     "execution_count": 6,
     "metadata": {},
     "output_type": "execute_result"
    }
   ],
   "source": [
    "# Standard Diviation of the dataset\n",
    "\n",
    "d_col.std()"
   ]
  },
  {
   "cell_type": "code",
   "execution_count": 7,
   "id": "839b7e11",
   "metadata": {
    "scrolled": true
   },
   "outputs": [
    {
     "data": {
      "text/plain": [
       "2.169892473118279"
      ]
     },
     "execution_count": 7,
     "metadata": {},
     "output_type": "execute_result"
    }
   ],
   "source": [
    "# Varience of the dataset\n",
    "\n",
    "d_col.var()"
   ]
  },
  {
   "cell_type": "markdown",
   "id": "d68e5879",
   "metadata": {},
   "source": [
    "Let’s take number of new deaths per 4 hours using this mean.\n",
    "\n",
    "    Number of new deaths per 4 hours = 7.3549"
   ]
  },
  {
   "cell_type": "markdown",
   "id": "12f1e93a",
   "metadata": {},
   "source": [
    "Hence the poisson distribution is discrete, We should take 7 as the parameter of the distribution.\n",
    "\n",
    "X ~ Poisson(7)\n",
    "\n",
    "    Mean = 7\n",
    "    Varience = 7\n",
    "    Standard Diviation = 2.6458"
   ]
  },
  {
   "cell_type": "code",
   "execution_count": 8,
   "id": "0e4c42e3",
   "metadata": {},
   "outputs": [],
   "source": [
    "lam = 7  # Mean / Parameter"
   ]
  },
  {
   "cell_type": "markdown",
   "id": "2d24cda0",
   "metadata": {},
   "source": [
    "### Questions"
   ]
  },
  {
   "cell_type": "code",
   "execution_count": 9,
   "id": "01c90c81",
   "metadata": {},
   "outputs": [
    {
     "name": "stdout",
     "output_type": "stream",
     "text": [
      "P(X = 10) =  0.07098326865041356\n"
     ]
    }
   ],
   "source": [
    "# 'lam' is the number of covid 19 deaths per 4 hours on average. What is the probability that will happen 10 deaths \n",
    "#  on a given 4 hours time period? \n",
    "\n",
    "print('P(X = 10) = ', poisson.pmf(k=10, mu=lam))"
   ]
  },
  {
   "cell_type": "code",
   "execution_count": 10,
   "id": "669aee80",
   "metadata": {},
   "outputs": [
    {
     "name": "stdout",
     "output_type": "stream",
     "text": [
      "P(X <= 9) =  0.8304959372386733\n"
     ]
    }
   ],
   "source": [
    "# What is the probability that will happen less than or equal 9 deaths on a given 4 hours time period?\n",
    "\n",
    "print('P(X <= 9) = ', poisson.cdf(k=9, mu=lam))"
   ]
  },
  {
   "cell_type": "code",
   "execution_count": 11,
   "id": "9f6cf93a",
   "metadata": {},
   "outputs": [
    {
     "name": "stdout",
     "output_type": "stream",
     "text": [
      "P(X > 6) =  0.5502889441513013\n"
     ]
    }
   ],
   "source": [
    "# What is the probability that will happen greater than 6 deaths  on a given 4 hours time period?\n",
    "\n",
    "print('P(X > 6) = ', 1 - poisson.cdf(k=6, mu=lam))"
   ]
  },
  {
   "cell_type": "code",
   "execution_count": 12,
   "id": "6f5d5ca4",
   "metadata": {},
   "outputs": [
    {
     "name": "stdout",
     "output_type": "stream",
     "text": [
      "P(5 < X <= 10) =  0.6007709297147263\n"
     ]
    }
   ],
   "source": [
    "# What is the probability that will happen greater than 5 and less than or equal 10 deaths on a given 4 hours \n",
    "# time period?\n",
    "\n",
    "print('P(5 < X <= 10) = ', poisson.cdf(k=10, mu=lam) - poisson.cdf(k=5, mu=lam))"
   ]
  },
  {
   "cell_type": "code",
   "execution_count": 13,
   "id": "9bfd9e91",
   "metadata": {},
   "outputs": [
    {
     "name": "stdout",
     "output_type": "stream",
     "text": [
      "P(X = 20) =  0.08671159160336742\n"
     ]
    }
   ],
   "source": [
    "# What is the probability that will happen 20 deaths on a given 12 hours ?\n",
    "\n",
    "#     lam (number of covid 19 deaths per 4 hours) = 7\n",
    "#     lam2 (number of covid 19 deaths per 12 hours) = 7 x 3 = 21\n",
    "\n",
    "lam2 = 21\n",
    "print('P(X = 20) = ', poisson.pmf(k=20, mu=lam2))"
   ]
  },
  {
   "cell_type": "code",
   "execution_count": 14,
   "id": "360f8f1c",
   "metadata": {},
   "outputs": [
    {
     "name": "stdout",
     "output_type": "stream",
     "text": [
      "P(6 < X <= 12) =  0.6689925893109778\n"
     ]
    }
   ],
   "source": [
    "# What is the probability that will happen greater than 6 and less than or equal 12 deaths on a given 5 hours?\n",
    "\n",
    "#     lam (number of covid 19 deaths per 4 hours) = 7\n",
    "#     lam3 (number of covid 19 deaths per 5 hours) = (7 / 4) x 5 = 8.75 ~ 9\n",
    "\n",
    "lam3 = 9\n",
    "print('P(6 < X <= 12) = ', poisson.cdf(k=12, mu=lam3) - poisson.cdf(k=6, mu=lam3))"
   ]
  },
  {
   "cell_type": "markdown",
   "id": "9b7f0e39",
   "metadata": {},
   "source": [
    "### Plots"
   ]
  },
  {
   "cell_type": "code",
   "execution_count": 15,
   "id": "c46165db",
   "metadata": {},
   "outputs": [
    {
     "data": {
      "text/plain": [
       "Text(0, 0.5, 'Count')"
      ]
     },
     "execution_count": 15,
     "metadata": {},
     "output_type": "execute_result"
    },
    {
     "data": {
      "image/png": "[encoded data removed]",
      "text/plain": [
       "<Figure size 640x480 with 1 Axes>"
      ]
     },
     "metadata": {},
     "output_type": "display_data"
    }
   ],
   "source": [
    "plt.hist(d_col, bins=50)\n",
    "plt.xlabel('No. of deaths per 4 hours')\n",
    "plt.ylabel('Count')"
   ]
  },
  {
   "cell_type": "code",
   "execution_count": 16,
   "id": "9ade4baa",
   "metadata": {},
   "outputs": [
    {
     "data": {
      "image/png": "[encoded data removed]",
      "text/plain": [
       "<Figure size 640x480 with 1 Axes>"
      ]
     },
     "metadata": {},
     "output_type": "display_data"
    }
   ],
   "source": [
    "unique_deaths = np.unique(d_col)\n",
    "\n",
    "# Calculate the lambda parameter of the Poisson distribution (mean of 'New_deaths')\n",
    "lambda_param = np.mean(d_col)\n",
    "\n",
    "# Calculate the probability mass function (PMF) of the Poisson distribution for each unique value\n",
    "poisson_pmf = poisson.pmf(unique_deaths, lambda_param)\n",
    "\n",
    "# Create the line graph\n",
    "plt.plot(unique_deaths, poisson_pmf, marker='o', linestyle='-', color='red')\n",
    "plt.xlabel('No. of deaths per 4 hours')\n",
    "plt.ylabel('Probability of each number of deaths')\n",
    "plt.grid(True)\n",
    "plt.show()"
   ]
  },
  {
   "cell_type": "code",
   "execution_count": null,
   "id": "2f5e3b0b",
   "metadata": {},
   "outputs": [],
   "source": []
  }
 ],
 "metadata": {
  "kernelspec": {
   "display_name": "Python 3 (ipykernel)",
   "language": "python",
   "name": "python3"
  },
  "language_info": {
   "codemirror_mode": {
    "name": "ipython",
    "version": 3
   },
   "file_extension": ".py",
   "mimetype": "text/x-python",
   "name": "python",
   "nbconvert_exporter": "python",
   "pygments_lexer": "ipython3",
   "version": "3.9.13"
  }
 },
 "nbformat": 4,
 "nbformat_minor": 5
}
