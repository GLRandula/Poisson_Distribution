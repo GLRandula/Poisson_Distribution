{
 "cells": [
  {
   "cell_type": "markdown",
   "metadata": {},
   "source": [
    "# Normal Distribution Data Analyzation"
   ]
  },
  {
   "cell_type": "markdown",
   "metadata": {
    "id": "SAFLqwkKk8rK"
   },
   "source": [
    "### *Import Libraries*"
   ]
  },
  {
   "cell_type": "code",
   "execution_count": 2,
   "metadata": {
    "id": "EgF2lvr_jzVL"
   },
   "outputs": [],
   "source": [
    "import pandas as pd\n",
    "from sklearn.linear_model import LinearRegression \n",
    "import matplotlib.pyplot as plt"
   ]
  },
  {
   "cell_type": "code",
   "execution_count": 3,
   "metadata": {},
   "outputs": [
    {
     "name": "stdout",
     "output_type": "stream",
     "text": [
      "[*********************100%***********************]  1 of 1 completed\n"
     ]
    },
    {
     "data": {
      "text/html": [
       "<div>\n",
       "<style scoped>\n",
       "    .dataframe tbody tr th:only-of-type {\n",
       "        vertical-align: middle;\n",
       "    }\n",
       "\n",
       "    .dataframe tbody tr th {\n",
       "        vertical-align: top;\n",
       "    }\n",
       "\n",
       "    .dataframe thead th {\n",
       "        text-align: right;\n",
       "    }\n",
       "</style>\n",
       "<table border=\"1\" class=\"dataframe\">\n",
       "  <thead>\n",
       "    <tr style=\"text-align: right;\">\n",
       "      <th></th>\n",
       "      <th>Open</th>\n",
       "      <th>High</th>\n",
       "      <th>Low</th>\n",
       "      <th>Close</th>\n",
       "      <th>Adj Close</th>\n",
       "      <th>Volume</th>\n",
       "    </tr>\n",
       "    <tr>\n",
       "      <th>Date</th>\n",
       "      <th></th>\n",
       "      <th></th>\n",
       "      <th></th>\n",
       "      <th></th>\n",
       "      <th></th>\n",
       "      <th></th>\n",
       "    </tr>\n",
       "  </thead>\n",
       "  <tbody>\n",
       "    <tr>\n",
       "      <th>2018-12-31</th>\n",
       "      <td>39.632500</td>\n",
       "      <td>39.840000</td>\n",
       "      <td>39.119999</td>\n",
       "      <td>39.435001</td>\n",
       "      <td>37.951187</td>\n",
       "      <td>140014000</td>\n",
       "    </tr>\n",
       "    <tr>\n",
       "      <th>2019-01-02</th>\n",
       "      <td>38.722500</td>\n",
       "      <td>39.712502</td>\n",
       "      <td>38.557499</td>\n",
       "      <td>39.480000</td>\n",
       "      <td>37.994488</td>\n",
       "      <td>148158800</td>\n",
       "    </tr>\n",
       "    <tr>\n",
       "      <th>2019-01-03</th>\n",
       "      <td>35.994999</td>\n",
       "      <td>36.430000</td>\n",
       "      <td>35.500000</td>\n",
       "      <td>35.547501</td>\n",
       "      <td>34.209965</td>\n",
       "      <td>365248800</td>\n",
       "    </tr>\n",
       "    <tr>\n",
       "      <th>2019-01-04</th>\n",
       "      <td>36.132500</td>\n",
       "      <td>37.137501</td>\n",
       "      <td>35.950001</td>\n",
       "      <td>37.064999</td>\n",
       "      <td>35.670364</td>\n",
       "      <td>234428400</td>\n",
       "    </tr>\n",
       "    <tr>\n",
       "      <th>2019-01-07</th>\n",
       "      <td>37.174999</td>\n",
       "      <td>37.207500</td>\n",
       "      <td>36.474998</td>\n",
       "      <td>36.982498</td>\n",
       "      <td>35.590961</td>\n",
       "      <td>219111200</td>\n",
       "    </tr>\n",
       "    <tr>\n",
       "      <th>...</th>\n",
       "      <td>...</td>\n",
       "      <td>...</td>\n",
       "      <td>...</td>\n",
       "      <td>...</td>\n",
       "      <td>...</td>\n",
       "      <td>...</td>\n",
       "    </tr>\n",
       "    <tr>\n",
       "      <th>2023-07-05</th>\n",
       "      <td>191.570007</td>\n",
       "      <td>192.979996</td>\n",
       "      <td>190.619995</td>\n",
       "      <td>191.330002</td>\n",
       "      <td>191.330002</td>\n",
       "      <td>46920300</td>\n",
       "    </tr>\n",
       "    <tr>\n",
       "      <th>2023-07-06</th>\n",
       "      <td>189.839996</td>\n",
       "      <td>192.020004</td>\n",
       "      <td>189.199997</td>\n",
       "      <td>191.809998</td>\n",
       "      <td>191.809998</td>\n",
       "      <td>45094300</td>\n",
       "    </tr>\n",
       "    <tr>\n",
       "      <th>2023-07-07</th>\n",
       "      <td>191.410004</td>\n",
       "      <td>192.669998</td>\n",
       "      <td>190.240005</td>\n",
       "      <td>190.679993</td>\n",
       "      <td>190.679993</td>\n",
       "      <td>46778000</td>\n",
       "    </tr>\n",
       "    <tr>\n",
       "      <th>2023-07-10</th>\n",
       "      <td>189.259995</td>\n",
       "      <td>189.990005</td>\n",
       "      <td>187.039993</td>\n",
       "      <td>188.610001</td>\n",
       "      <td>188.610001</td>\n",
       "      <td>59922200</td>\n",
       "    </tr>\n",
       "    <tr>\n",
       "      <th>2023-07-11</th>\n",
       "      <td>189.160004</td>\n",
       "      <td>189.300003</td>\n",
       "      <td>186.600006</td>\n",
       "      <td>188.080002</td>\n",
       "      <td>188.080002</td>\n",
       "      <td>46638100</td>\n",
       "    </tr>\n",
       "  </tbody>\n",
       "</table>\n",
       "<p>1139 rows × 6 columns</p>\n",
       "</div>"
      ],
      "text/plain": [
       "                  Open        High         Low       Close   Adj Close  \\\n",
       "Date                                                                     \n",
       "2018-12-31   39.632500   39.840000   39.119999   39.435001   37.951187   \n",
       "2019-01-02   38.722500   39.712502   38.557499   39.480000   37.994488   \n",
       "2019-01-03   35.994999   36.430000   35.500000   35.547501   34.209965   \n",
       "2019-01-04   36.132500   37.137501   35.950001   37.064999   35.670364   \n",
       "2019-01-07   37.174999   37.207500   36.474998   36.982498   35.590961   \n",
       "...                ...         ...         ...         ...         ...   \n",
       "2023-07-05  191.570007  192.979996  190.619995  191.330002  191.330002   \n",
       "2023-07-06  189.839996  192.020004  189.199997  191.809998  191.809998   \n",
       "2023-07-07  191.410004  192.669998  190.240005  190.679993  190.679993   \n",
       "2023-07-10  189.259995  189.990005  187.039993  188.610001  188.610001   \n",
       "2023-07-11  189.160004  189.300003  186.600006  188.080002  188.080002   \n",
       "\n",
       "               Volume  \n",
       "Date                   \n",
       "2018-12-31  140014000  \n",
       "2019-01-02  148158800  \n",
       "2019-01-03  365248800  \n",
       "2019-01-04  234428400  \n",
       "2019-01-07  219111200  \n",
       "...               ...  \n",
       "2023-07-05   46920300  \n",
       "2023-07-06   45094300  \n",
       "2023-07-07   46778000  \n",
       "2023-07-10   59922200  \n",
       "2023-07-11   46638100  \n",
       "\n",
       "[1139 rows x 6 columns]"
      ]
     },
     "execution_count": 3,
     "metadata": {},
     "output_type": "execute_result"
    }
   ],
   "source": [
    "import yfinance as yf\n",
    "\n",
    "# Define the ticker symbol for the stock\n",
    "ticker_symbol = \"AAPL\"  # Apple Inc.\n",
    "\n",
    "# Fetch the historical stock data\n",
    "stock_data = yf.download(ticker_symbol, start=\"2019-01-01\", end=\"2023-7-12\")\n",
    "\n",
    "# Print the stock data\n",
    "stock_data"
   ]
  },
  {
   "cell_type": "code",
   "execution_count": 4,
   "metadata": {},
   "outputs": [
    {
     "data": {
      "text/html": [
       "<div>\n",
       "<style scoped>\n",
       "    .dataframe tbody tr th:only-of-type {\n",
       "        vertical-align: middle;\n",
       "    }\n",
       "\n",
       "    .dataframe tbody tr th {\n",
       "        vertical-align: top;\n",
       "    }\n",
       "\n",
       "    .dataframe thead th {\n",
       "        text-align: right;\n",
       "    }\n",
       "</style>\n",
       "<table border=\"1\" class=\"dataframe\">\n",
       "  <thead>\n",
       "    <tr style=\"text-align: right;\">\n",
       "      <th></th>\n",
       "      <th>Open</th>\n",
       "      <th>High</th>\n",
       "      <th>Low</th>\n",
       "      <th>Close</th>\n",
       "      <th>Adj Close</th>\n",
       "      <th>Volume</th>\n",
       "      <th>Daily_Return</th>\n",
       "    </tr>\n",
       "    <tr>\n",
       "      <th>Date</th>\n",
       "      <th></th>\n",
       "      <th></th>\n",
       "      <th></th>\n",
       "      <th></th>\n",
       "      <th></th>\n",
       "      <th></th>\n",
       "      <th></th>\n",
       "    </tr>\n",
       "  </thead>\n",
       "  <tbody>\n",
       "    <tr>\n",
       "      <th>2018-12-31</th>\n",
       "      <td>39.632500</td>\n",
       "      <td>39.840000</td>\n",
       "      <td>39.119999</td>\n",
       "      <td>39.435001</td>\n",
       "      <td>37.951187</td>\n",
       "      <td>140014000</td>\n",
       "      <td>NaN</td>\n",
       "    </tr>\n",
       "    <tr>\n",
       "      <th>2019-01-02</th>\n",
       "      <td>38.722500</td>\n",
       "      <td>39.712502</td>\n",
       "      <td>38.557499</td>\n",
       "      <td>39.480000</td>\n",
       "      <td>37.994488</td>\n",
       "      <td>148158800</td>\n",
       "      <td>0.114107</td>\n",
       "    </tr>\n",
       "    <tr>\n",
       "      <th>2019-01-03</th>\n",
       "      <td>35.994999</td>\n",
       "      <td>36.430000</td>\n",
       "      <td>35.500000</td>\n",
       "      <td>35.547501</td>\n",
       "      <td>34.209965</td>\n",
       "      <td>365248800</td>\n",
       "      <td>-9.960737</td>\n",
       "    </tr>\n",
       "    <tr>\n",
       "      <th>2019-01-04</th>\n",
       "      <td>36.132500</td>\n",
       "      <td>37.137501</td>\n",
       "      <td>35.950001</td>\n",
       "      <td>37.064999</td>\n",
       "      <td>35.670364</td>\n",
       "      <td>234428400</td>\n",
       "      <td>4.268930</td>\n",
       "    </tr>\n",
       "    <tr>\n",
       "      <th>2019-01-07</th>\n",
       "      <td>37.174999</td>\n",
       "      <td>37.207500</td>\n",
       "      <td>36.474998</td>\n",
       "      <td>36.982498</td>\n",
       "      <td>35.590961</td>\n",
       "      <td>219111200</td>\n",
       "      <td>-0.222583</td>\n",
       "    </tr>\n",
       "    <tr>\n",
       "      <th>...</th>\n",
       "      <td>...</td>\n",
       "      <td>...</td>\n",
       "      <td>...</td>\n",
       "      <td>...</td>\n",
       "      <td>...</td>\n",
       "      <td>...</td>\n",
       "      <td>...</td>\n",
       "    </tr>\n",
       "    <tr>\n",
       "      <th>2023-07-05</th>\n",
       "      <td>191.570007</td>\n",
       "      <td>192.979996</td>\n",
       "      <td>190.619995</td>\n",
       "      <td>191.330002</td>\n",
       "      <td>191.330002</td>\n",
       "      <td>46920300</td>\n",
       "      <td>-0.587138</td>\n",
       "    </tr>\n",
       "    <tr>\n",
       "      <th>2023-07-06</th>\n",
       "      <td>189.839996</td>\n",
       "      <td>192.020004</td>\n",
       "      <td>189.199997</td>\n",
       "      <td>191.809998</td>\n",
       "      <td>191.809998</td>\n",
       "      <td>45094300</td>\n",
       "      <td>0.250873</td>\n",
       "    </tr>\n",
       "    <tr>\n",
       "      <th>2023-07-07</th>\n",
       "      <td>191.410004</td>\n",
       "      <td>192.669998</td>\n",
       "      <td>190.240005</td>\n",
       "      <td>190.679993</td>\n",
       "      <td>190.679993</td>\n",
       "      <td>46778000</td>\n",
       "      <td>-0.589127</td>\n",
       "    </tr>\n",
       "    <tr>\n",
       "      <th>2023-07-10</th>\n",
       "      <td>189.259995</td>\n",
       "      <td>189.990005</td>\n",
       "      <td>187.039993</td>\n",
       "      <td>188.610001</td>\n",
       "      <td>188.610001</td>\n",
       "      <td>59922200</td>\n",
       "      <td>-1.085584</td>\n",
       "    </tr>\n",
       "    <tr>\n",
       "      <th>2023-07-11</th>\n",
       "      <td>189.160004</td>\n",
       "      <td>189.300003</td>\n",
       "      <td>186.600006</td>\n",
       "      <td>188.080002</td>\n",
       "      <td>188.080002</td>\n",
       "      <td>46638100</td>\n",
       "      <td>-0.281002</td>\n",
       "    </tr>\n",
       "  </tbody>\n",
       "</table>\n",
       "<p>1139 rows × 7 columns</p>\n",
       "</div>"
      ],
      "text/plain": [
       "                  Open        High         Low       Close   Adj Close  \\\n",
       "Date                                                                     \n",
       "2018-12-31   39.632500   39.840000   39.119999   39.435001   37.951187   \n",
       "2019-01-02   38.722500   39.712502   38.557499   39.480000   37.994488   \n",
       "2019-01-03   35.994999   36.430000   35.500000   35.547501   34.209965   \n",
       "2019-01-04   36.132500   37.137501   35.950001   37.064999   35.670364   \n",
       "2019-01-07   37.174999   37.207500   36.474998   36.982498   35.590961   \n",
       "...                ...         ...         ...         ...         ...   \n",
       "2023-07-05  191.570007  192.979996  190.619995  191.330002  191.330002   \n",
       "2023-07-06  189.839996  192.020004  189.199997  191.809998  191.809998   \n",
       "2023-07-07  191.410004  192.669998  190.240005  190.679993  190.679993   \n",
       "2023-07-10  189.259995  189.990005  187.039993  188.610001  188.610001   \n",
       "2023-07-11  189.160004  189.300003  186.600006  188.080002  188.080002   \n",
       "\n",
       "               Volume  Daily_Return  \n",
       "Date                                 \n",
       "2018-12-31  140014000           NaN  \n",
       "2019-01-02  148158800      0.114107  \n",
       "2019-01-03  365248800     -9.960737  \n",
       "2019-01-04  234428400      4.268930  \n",
       "2019-01-07  219111200     -0.222583  \n",
       "...               ...           ...  \n",
       "2023-07-05   46920300     -0.587138  \n",
       "2023-07-06   45094300      0.250873  \n",
       "2023-07-07   46778000     -0.589127  \n",
       "2023-07-10   59922200     -1.085584  \n",
       "2023-07-11   46638100     -0.281002  \n",
       "\n",
       "[1139 rows x 7 columns]"
      ]
     },
     "execution_count": 4,
     "metadata": {},
     "output_type": "execute_result"
    }
   ],
   "source": [
    "\n",
    "stock_data['Daily_Return'] = stock_data['Close'].pct_change() * 100\n",
    "stock_data"
   ]
  },
  {
   "cell_type": "code",
   "execution_count": 5,
   "metadata": {},
   "outputs": [],
   "source": [
    "stock_data.Daily_Return.mean()\n",
    "\n",
    "stock_data.Daily_Return.to_csv(\"stock_1.csv\")"
   ]
  },
  {
   "cell_type": "code",
   "execution_count": 6,
   "metadata": {},
   "outputs": [
    {
     "data": {
      "text/html": [
       "<div>\n",
       "<style scoped>\n",
       "    .dataframe tbody tr th:only-of-type {\n",
       "        vertical-align: middle;\n",
       "    }\n",
       "\n",
       "    .dataframe tbody tr th {\n",
       "        vertical-align: top;\n",
       "    }\n",
       "\n",
       "    .dataframe thead th {\n",
       "        text-align: right;\n",
       "    }\n",
       "</style>\n",
       "<table border=\"1\" class=\"dataframe\">\n",
       "  <thead>\n",
       "    <tr style=\"text-align: right;\">\n",
       "      <th></th>\n",
       "      <th>Date</th>\n",
       "      <th>Daily_Return</th>\n",
       "    </tr>\n",
       "  </thead>\n",
       "  <tbody>\n",
       "    <tr>\n",
       "      <th>1</th>\n",
       "      <td>2019-01-02</td>\n",
       "      <td>0.114107</td>\n",
       "    </tr>\n",
       "    <tr>\n",
       "      <th>2</th>\n",
       "      <td>2019-01-03</td>\n",
       "      <td>-9.960737</td>\n",
       "    </tr>\n",
       "    <tr>\n",
       "      <th>3</th>\n",
       "      <td>2019-01-04</td>\n",
       "      <td>4.268930</td>\n",
       "    </tr>\n",
       "    <tr>\n",
       "      <th>4</th>\n",
       "      <td>2019-01-07</td>\n",
       "      <td>-0.222583</td>\n",
       "    </tr>\n",
       "    <tr>\n",
       "      <th>5</th>\n",
       "      <td>2019-01-08</td>\n",
       "      <td>1.906312</td>\n",
       "    </tr>\n",
       "    <tr>\n",
       "      <th>...</th>\n",
       "      <td>...</td>\n",
       "      <td>...</td>\n",
       "    </tr>\n",
       "    <tr>\n",
       "      <th>1134</th>\n",
       "      <td>2023-07-05</td>\n",
       "      <td>-0.587138</td>\n",
       "    </tr>\n",
       "    <tr>\n",
       "      <th>1135</th>\n",
       "      <td>2023-07-06</td>\n",
       "      <td>0.250873</td>\n",
       "    </tr>\n",
       "    <tr>\n",
       "      <th>1136</th>\n",
       "      <td>2023-07-07</td>\n",
       "      <td>-0.589127</td>\n",
       "    </tr>\n",
       "    <tr>\n",
       "      <th>1137</th>\n",
       "      <td>2023-07-10</td>\n",
       "      <td>-1.085584</td>\n",
       "    </tr>\n",
       "    <tr>\n",
       "      <th>1138</th>\n",
       "      <td>2023-07-11</td>\n",
       "      <td>-0.281002</td>\n",
       "    </tr>\n",
       "  </tbody>\n",
       "</table>\n",
       "<p>1138 rows × 2 columns</p>\n",
       "</div>"
      ],
      "text/plain": [
       "            Date  Daily_Return\n",
       "1     2019-01-02      0.114107\n",
       "2     2019-01-03     -9.960737\n",
       "3     2019-01-04      4.268930\n",
       "4     2019-01-07     -0.222583\n",
       "5     2019-01-08      1.906312\n",
       "...          ...           ...\n",
       "1134  2023-07-05     -0.587138\n",
       "1135  2023-07-06      0.250873\n",
       "1136  2023-07-07     -0.589127\n",
       "1137  2023-07-10     -1.085584\n",
       "1138  2023-07-11     -0.281002\n",
       "\n",
       "[1138 rows x 2 columns]"
      ]
     },
     "execution_count": 6,
     "metadata": {},
     "output_type": "execute_result"
    }
   ],
   "source": [
    "df = pd.read_csv(\"stock_1.csv\")\n",
    "df.dropna()"
   ]
  },
  {
   "cell_type": "code",
   "execution_count": 7,
   "metadata": {},
   "outputs": [],
   "source": [
    "df.to_csv(\"stock_full.csv\")"
   ]
  },
  {
   "cell_type": "markdown",
   "metadata": {
    "id": "6gXowmSom462"
   },
   "source": [
    "### *Load Dataset*"
   ]
  },
  {
   "cell_type": "code",
   "execution_count": 8,
   "metadata": {},
   "outputs": [],
   "source": [
    "mean = df.Daily_Return.mean()\n",
    "\n",
    "# Get the mode of each column\n",
    "mode = df.Daily_Return.mode()\n",
    "\n",
    "# Get the median of each column\n",
    "median = df.Daily_Return.median()\n",
    "\n",
    "standard_deviation = df.Daily_Return.std()"
   ]
  },
  {
   "cell_type": "code",
   "execution_count": 9,
   "metadata": {},
   "outputs": [
    {
     "name": "stdout",
     "output_type": "stream",
     "text": [
      "0.15938538361414295\n",
      "0.12905871434459865\n",
      "2.0986126595448127\n"
     ]
    }
   ],
   "source": [
    "print(mean)\n",
    "\n",
    "print(median)\n",
    "\n",
    "print(standard_deviation)"
   ]
  },
  {
   "cell_type": "code",
   "execution_count": 10,
   "metadata": {},
   "outputs": [],
   "source": [
    "lower_threshold = mean - 3 * standard_deviation\n",
    "upper_threshold = mean + 3 * standard_deviation\n",
    "\n",
    "df = df.loc[(df[\"Daily_Return\"] >= lower_threshold) & (df[\"Daily_Return\"] <= upper_threshold)]\n"
   ]
  },
  {
   "cell_type": "code",
   "execution_count": 11,
   "metadata": {},
   "outputs": [],
   "source": [
    "mean = df.Daily_Return.mean()\n",
    "\n",
    "# Get the mode of each column\n",
    "mode = df.Daily_Return.mode()\n",
    "\n",
    "# Get the median of each column\n",
    "median = df.Daily_Return.median()\n",
    "\n",
    "standard_deviation = df.Daily_Return.std()"
   ]
  },
  {
   "cell_type": "code",
   "execution_count": 12,
   "metadata": {},
   "outputs": [
    {
     "name": "stdout",
     "output_type": "stream",
     "text": [
      "0.1443120400572444\n",
      "0.12440673509387376\n",
      "1.792607972708827\n"
     ]
    }
   ],
   "source": [
    "print(mean)\n",
    "\n",
    "print(median)\n",
    "\n",
    "print(standard_deviation)"
   ]
  },
  {
   "cell_type": "code",
   "execution_count": 13,
   "metadata": {},
   "outputs": [
    {
     "data": {
      "image/png": "[encoded data removed]",
      "text/plain": [
       "<Figure size 640x480 with 1 Axes>"
      ]
     },
     "metadata": {},
     "output_type": "display_data"
    }
   ],
   "source": [
    "\n",
    "import matplotlib.pyplot as plt\n",
    "import numpy as np\n",
    "\n",
    "data = np.random.normal(mean, standard_deviation, 1000)\n",
    "\n",
    "\n",
    "fig, ax = plt.subplots()\n",
    "\n",
    "\n",
    "ax.hist(data, bins=100)\n",
    "\n",
    "# Add a title and labels\n",
    "ax.set_title(\"Normal Distribution\")\n",
    "ax.set_xlabel(\"Value\")\n",
    "ax.set_ylabel(\"Frequency\")\n",
    "\n",
    "# Show the plot\n",
    "plt.show()"
   ]
  },
  {
   "cell_type": "code",
   "execution_count": 14,
   "metadata": {},
   "outputs": [
    {
     "data": {
      "image/png": "[encoded data removed]",
      "text/plain": [
       "<Figure size 640x480 with 1 Axes>"
      ]
     },
     "metadata": {},
     "output_type": "display_data"
    }
   ],
   "source": [
    "data = np.random.normal(mean, standard_deviation, 1000)\n",
    "\n",
    "# Create the figure and axes\n",
    "fig, ax = plt.subplots()\n",
    "\n",
    "# Plot the data\n",
    "ax.hist(data, bins=100)\n",
    "\n",
    "# Add a title and labels\n",
    "ax.set_title(\"Normal Distribution\")\n",
    "ax.set_xlabel(\"Value\")\n",
    "ax.set_ylabel(\"Frequency\")\n",
    "\n",
    "# Show the plot\n",
    "plt.show()"
   ]
  },
  {
   "cell_type": "code",
   "execution_count": 15,
   "metadata": {},
   "outputs": [
    {
     "data": {
      "text/plain": [
       "1       0.114107\n",
       "3       4.268930\n",
       "4      -0.222583\n",
       "5       1.906312\n",
       "6       1.698174\n",
       "          ...   \n",
       "1134   -0.587138\n",
       "1135    0.250873\n",
       "1136   -0.589127\n",
       "1137   -1.085584\n",
       "1138   -0.281002\n",
       "Name: Daily_Return, Length: 1120, dtype: float64"
      ]
     },
     "execution_count": 15,
     "metadata": {},
     "output_type": "execute_result"
    }
   ],
   "source": [
    "df.Daily_Return"
   ]
  },
  {
   "cell_type": "markdown",
   "metadata": {},
   "source": [
    "Log Transfomation\n"
   ]
  },
  {
   "cell_type": "code",
   "execution_count": 76,
   "metadata": {
    "id": "6JLDHSdym6wP"
   },
   "outputs": [],
   "source": [
    "import numpy as np\n",
    "from scipy.stats import boxcox\n",
    "import scipy as sc\n"
   ]
  },
  {
   "cell_type": "code",
   "execution_count": null,
   "metadata": {},
   "outputs": [],
   "source": []
  },
  {
   "cell_type": "code",
   "execution_count": 80,
   "metadata": {},
   "outputs": [],
   "source": [
    "import numpy as np\n",
    "from scipy import stats\n",
    "\n",
    "\n",
    "\n",
    "# Perform the Yeo-Johnson transformation\n",
    "transformed_data, lambda_opt = stats.yeojohnson(df.Daily_Return)\n",
    "\n",
    "# Print the results\n"
   ]
  },
  {
   "cell_type": "code",
   "execution_count": 82,
   "metadata": {},
   "outputs": [
    {
     "data": {
      "text/html": [
       "<div>\n",
       "<style scoped>\n",
       "    .dataframe tbody tr th:only-of-type {\n",
       "        vertical-align: middle;\n",
       "    }\n",
       "\n",
       "    .dataframe tbody tr th {\n",
       "        vertical-align: top;\n",
       "    }\n",
       "\n",
       "    .dataframe thead th {\n",
       "        text-align: right;\n",
       "    }\n",
       "</style>\n",
       "<table border=\"1\" class=\"dataframe\">\n",
       "  <thead>\n",
       "    <tr style=\"text-align: right;\">\n",
       "      <th></th>\n",
       "      <th>Date</th>\n",
       "      <th>Daily_Return</th>\n",
       "      <th>TransformedData</th>\n",
       "    </tr>\n",
       "  </thead>\n",
       "  <tbody>\n",
       "    <tr>\n",
       "      <th>1</th>\n",
       "      <td>2019-01-02</td>\n",
       "      <td>0.114107</td>\n",
       "      <td>0.114445</td>\n",
       "    </tr>\n",
       "    <tr>\n",
       "      <th>3</th>\n",
       "      <td>2019-01-04</td>\n",
       "      <td>4.268930</td>\n",
       "      <td>4.518547</td>\n",
       "    </tr>\n",
       "    <tr>\n",
       "      <th>4</th>\n",
       "      <td>2019-01-07</td>\n",
       "      <td>-0.222583</td>\n",
       "      <td>-0.221344</td>\n",
       "    </tr>\n",
       "    <tr>\n",
       "      <th>5</th>\n",
       "      <td>2019-01-08</td>\n",
       "      <td>1.906312</td>\n",
       "      <td>1.971906</td>\n",
       "    </tr>\n",
       "    <tr>\n",
       "      <th>6</th>\n",
       "      <td>2019-01-09</td>\n",
       "      <td>1.698174</td>\n",
       "      <td>1.751909</td>\n",
       "    </tr>\n",
       "    <tr>\n",
       "      <th>...</th>\n",
       "      <td>...</td>\n",
       "      <td>...</td>\n",
       "      <td>...</td>\n",
       "    </tr>\n",
       "    <tr>\n",
       "      <th>1134</th>\n",
       "      <td>2023-07-05</td>\n",
       "      <td>-0.587138</td>\n",
       "      <td>-0.579351</td>\n",
       "    </tr>\n",
       "    <tr>\n",
       "      <th>1135</th>\n",
       "      <td>2023-07-06</td>\n",
       "      <td>0.250873</td>\n",
       "      <td>0.252446</td>\n",
       "    </tr>\n",
       "    <tr>\n",
       "      <th>1136</th>\n",
       "      <td>2023-07-07</td>\n",
       "      <td>-0.589127</td>\n",
       "      <td>-0.581292</td>\n",
       "    </tr>\n",
       "    <tr>\n",
       "      <th>1137</th>\n",
       "      <td>2023-07-10</td>\n",
       "      <td>-1.085584</td>\n",
       "      <td>-1.061851</td>\n",
       "    </tr>\n",
       "    <tr>\n",
       "      <th>1138</th>\n",
       "      <td>2023-07-11</td>\n",
       "      <td>-0.281002</td>\n",
       "      <td>-0.279063</td>\n",
       "    </tr>\n",
       "  </tbody>\n",
       "</table>\n",
       "<p>1120 rows × 3 columns</p>\n",
       "</div>"
      ],
      "text/plain": [
       "            Date  Daily_Return  TransformedData\n",
       "1     2019-01-02      0.114107         0.114445\n",
       "3     2019-01-04      4.268930         4.518547\n",
       "4     2019-01-07     -0.222583        -0.221344\n",
       "5     2019-01-08      1.906312         1.971906\n",
       "6     2019-01-09      1.698174         1.751909\n",
       "...          ...           ...              ...\n",
       "1134  2023-07-05     -0.587138        -0.579351\n",
       "1135  2023-07-06      0.250873         0.252446\n",
       "1136  2023-07-07     -0.589127        -0.581292\n",
       "1137  2023-07-10     -1.085584        -1.061851\n",
       "1138  2023-07-11     -0.281002        -0.279063\n",
       "\n",
       "[1120 rows x 3 columns]"
      ]
     },
     "execution_count": 82,
     "metadata": {},
     "output_type": "execute_result"
    }
   ],
   "source": [
    "df['TransformedData'], lambda_opt = stats.yeojohnson(df['Daily_Return'])\n",
    "df"
   ]
  },
  {
   "cell_type": "code",
   "execution_count": 87,
   "metadata": {},
   "outputs": [
    {
     "name": "stdout",
     "output_type": "stream",
     "text": [
      "0.19470435251700546\n",
      "0.1248075899073521\n",
      "1.796724714995923\n"
     ]
    }
   ],
   "source": [
    "mean1 = df.TransformedData.mean()\n",
    "\n",
    "# Get the mode of each column\n",
    "mode1 = df.TransformedData.mode()\n",
    "\n",
    "# Get the median of each column\n",
    "median1 = df.TransformedData.median()\n",
    "\n",
    "standard_deviation1 = df.TransformedData.std()\n",
    "\n",
    "print(mean1)\n",
    "\n",
    "print(median1)\n",
    "print(standard_deviation1)"
   ]
  },
  {
   "cell_type": "code",
   "execution_count": 85,
   "metadata": {},
   "outputs": [
    {
     "data": {
      "image/png": "[encoded data removed]",
      "text/plain": [
       "<Figure size 640x480 with 1 Axes>"
      ]
     },
     "metadata": {},
     "output_type": "display_data"
    }
   ],
   "source": [
    "\n",
    "data = np.random.normal(mean1, standard_deviation1, 1000)\n",
    "\n",
    "\n",
    "fig, ax = plt.subplots()\n",
    "\n",
    "\n",
    "ax.hist(data, bins=100)\n",
    "\n",
    "# Add a title and labels\n",
    "ax.set_title(\"Normal Distribution\")\n",
    "ax.set_xlabel(\"Value\")\n",
    "ax.set_ylabel(\"Frequency\")\n",
    "\n",
    "# Show the plot\n",
    "plt.show()"
   ]
  },
  {
   "cell_type": "code",
   "execution_count": 89,
   "metadata": {},
   "outputs": [
    {
     "name": "stdout",
     "output_type": "stream",
     "text": [
      "Transformed Data: 1       8.763690\n",
      "3       0.234251\n",
      "4      -4.492702\n",
      "5       0.524573\n",
      "6       0.588868\n",
      "          ...   \n",
      "1134   -1.703179\n",
      "1135    3.986077\n",
      "1136   -1.697426\n",
      "1137   -0.921163\n",
      "1138   -3.558687\n",
      "Name: Daily_Return, Length: 1120, dtype: float64\n"
     ]
    },
    {
     "name": "stderr",
     "output_type": "stream",
     "text": [
      "c:\\Users\\GIHAN LAKMAL\\AppData\\Local\\Programs\\Python\\Python310\\lib\\site-packages\\pandas\\core\\arraylike.py:397: RuntimeWarning: divide by zero encountered in reciprocal\n",
      "  result = getattr(ufunc, method)(*inputs, **kwargs)\n"
     ]
    }
   ],
   "source": [
    "from scipy.stats import shapiro\n",
    "\n",
    "transformed_data = np.reciprocal(df.Daily_Return)\n",
    "\n",
    "# Print the transformed data\n",
    "print(\"Transformed Data:\", transformed_data)\n",
    "\n",
    "\n"
   ]
  },
  {
   "cell_type": "code",
   "execution_count": 94,
   "metadata": {},
   "outputs": [
    {
     "data": {
      "text/html": [
       "<div>\n",
       "<style scoped>\n",
       "    .dataframe tbody tr th:only-of-type {\n",
       "        vertical-align: middle;\n",
       "    }\n",
       "\n",
       "    .dataframe tbody tr th {\n",
       "        vertical-align: top;\n",
       "    }\n",
       "\n",
       "    .dataframe thead th {\n",
       "        text-align: right;\n",
       "    }\n",
       "</style>\n",
       "<table border=\"1\" class=\"dataframe\">\n",
       "  <thead>\n",
       "    <tr style=\"text-align: right;\">\n",
       "      <th></th>\n",
       "      <th>Date</th>\n",
       "      <th>Daily_Return</th>\n",
       "      <th>TransformedData</th>\n",
       "      <th>TTTransformedData</th>\n",
       "    </tr>\n",
       "  </thead>\n",
       "  <tbody>\n",
       "    <tr>\n",
       "      <th>1</th>\n",
       "      <td>2019-01-02</td>\n",
       "      <td>0.114107</td>\n",
       "      <td>0.114445</td>\n",
       "      <td>8.756017</td>\n",
       "    </tr>\n",
       "    <tr>\n",
       "      <th>3</th>\n",
       "      <td>2019-01-04</td>\n",
       "      <td>4.268930</td>\n",
       "      <td>4.518547</td>\n",
       "      <td>0.234245</td>\n",
       "    </tr>\n",
       "    <tr>\n",
       "      <th>4</th>\n",
       "      <td>2019-01-07</td>\n",
       "      <td>-0.222583</td>\n",
       "      <td>-0.221344</td>\n",
       "      <td>-4.494722</td>\n",
       "    </tr>\n",
       "    <tr>\n",
       "      <th>5</th>\n",
       "      <td>2019-01-08</td>\n",
       "      <td>1.906312</td>\n",
       "      <td>1.971906</td>\n",
       "      <td>0.524546</td>\n",
       "    </tr>\n",
       "    <tr>\n",
       "      <th>6</th>\n",
       "      <td>2019-01-09</td>\n",
       "      <td>1.698174</td>\n",
       "      <td>1.751909</td>\n",
       "      <td>0.588833</td>\n",
       "    </tr>\n",
       "    <tr>\n",
       "      <th>...</th>\n",
       "      <td>...</td>\n",
       "      <td>...</td>\n",
       "      <td>...</td>\n",
       "      <td>...</td>\n",
       "    </tr>\n",
       "    <tr>\n",
       "      <th>1134</th>\n",
       "      <td>2023-07-05</td>\n",
       "      <td>-0.587138</td>\n",
       "      <td>-0.579351</td>\n",
       "      <td>-1.703469</td>\n",
       "    </tr>\n",
       "    <tr>\n",
       "      <th>1135</th>\n",
       "      <td>2023-07-06</td>\n",
       "      <td>0.250873</td>\n",
       "      <td>0.252446</td>\n",
       "      <td>3.984489</td>\n",
       "    </tr>\n",
       "    <tr>\n",
       "      <th>1136</th>\n",
       "      <td>2023-07-07</td>\n",
       "      <td>-0.589127</td>\n",
       "      <td>-0.581292</td>\n",
       "      <td>-1.697714</td>\n",
       "    </tr>\n",
       "    <tr>\n",
       "      <th>1137</th>\n",
       "      <td>2023-07-10</td>\n",
       "      <td>-1.085584</td>\n",
       "      <td>-1.061851</td>\n",
       "      <td>-0.921248</td>\n",
       "    </tr>\n",
       "    <tr>\n",
       "      <th>1138</th>\n",
       "      <td>2023-07-11</td>\n",
       "      <td>-0.281002</td>\n",
       "      <td>-0.279063</td>\n",
       "      <td>-3.559954</td>\n",
       "    </tr>\n",
       "  </tbody>\n",
       "</table>\n",
       "<p>1120 rows × 4 columns</p>\n",
       "</div>"
      ],
      "text/plain": [
       "            Date  Daily_Return  TransformedData  TTTransformedData\n",
       "1     2019-01-02      0.114107         0.114445           8.756017\n",
       "3     2019-01-04      4.268930         4.518547           0.234245\n",
       "4     2019-01-07     -0.222583        -0.221344          -4.494722\n",
       "5     2019-01-08      1.906312         1.971906           0.524546\n",
       "6     2019-01-09      1.698174         1.751909           0.588833\n",
       "...          ...           ...              ...                ...\n",
       "1134  2023-07-05     -0.587138        -0.579351          -1.703469\n",
       "1135  2023-07-06      0.250873         0.252446           3.984489\n",
       "1136  2023-07-07     -0.589127        -0.581292          -1.697714\n",
       "1137  2023-07-10     -1.085584        -1.061851          -0.921248\n",
       "1138  2023-07-11     -0.281002        -0.279063          -3.559954\n",
       "\n",
       "[1120 rows x 4 columns]"
      ]
     },
     "execution_count": 94,
     "metadata": {},
     "output_type": "execute_result"
    }
   ],
   "source": [
    "shift = 0.0001\n",
    "df['TTTransformedData'] = np.reciprocal(df['Daily_Return'] + shift)\n",
    "df"
   ]
  },
  {
   "cell_type": "code",
   "execution_count": 95,
   "metadata": {},
   "outputs": [
    {
     "name": "stdout",
     "output_type": "stream",
     "text": [
      "27.196109518744255\n",
      "0.29404309957889097\n",
      "517.2344138881576\n"
     ]
    }
   ],
   "source": [
    "mean2 = df.TTTransformedData.mean()\n",
    "\n",
    "# Get the mode of each column\n",
    "mode2 = df.TTTransformedData.mode()\n",
    "\n",
    "# Get the median of each column\n",
    "median2 = df.TTTransformedData.median()\n",
    "\n",
    "standard_deviation2 = df.TTTransformedData.std()\n",
    "\n",
    "print(mean2)\n",
    "\n",
    "print(median2)\n",
    "print(standard_deviation2)"
   ]
  },
  {
   "cell_type": "code",
   "execution_count": 96,
   "metadata": {},
   "outputs": [
    {
     "data": {
      "image/png": "[encoded data removed]",
      "text/plain": [
       "<Figure size 640x480 with 1 Axes>"
      ]
     },
     "metadata": {},
     "output_type": "display_data"
    }
   ],
   "source": [
    "data = np.random.normal(mean2, standard_deviation2, 1000)\n",
    "\n",
    "\n",
    "fig, ax = plt.subplots()\n",
    "\n",
    "\n",
    "ax.hist(data, bins=100)\n",
    "\n",
    "# Add a title and labels\n",
    "ax.set_title(\"Normal Distribution\")\n",
    "ax.set_xlabel(\"Value\")\n",
    "ax.set_ylabel(\"Frequency\")\n",
    "\n",
    "# Show the plot\n",
    "plt.show()"
   ]
  },
  {
   "cell_type": "markdown",
   "metadata": {},
   "source": []
  },
  {
   "cell_type": "code",
   "execution_count": null,
   "metadata": {},
   "outputs": [],
   "source": []
  },
  {
   "cell_type": "code",
   "execution_count": null,
   "metadata": {},
   "outputs": [],
   "source": []
  },
  {
   "cell_type": "code",
   "execution_count": null,
   "metadata": {},
   "outputs": [],
   "source": []
  }
 ],
 "metadata": {
  "colab": {
   "collapsed_sections": [],
   "name": "11 | House price prediction using Linear Regression.ipynb",
   "provenance": []
  },
  "kernelspec": {
   "display_name": "Python 3 (ipykernel)",
   "language": "python",
   "name": "python3"
  },
  "language_info": {
   "codemirror_mode": {
    "name": "ipython",
    "version": 3
   },
   "file_extension": ".py",
   "mimetype": "text/x-python",
   "name": "python",
   "nbconvert_exporter": "python",
   "pygments_lexer": "ipython3",
   "version": "3.9.13"
  }
 },
 "nbformat": 4,
 "nbformat_minor": 1
}
